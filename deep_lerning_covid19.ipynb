{
  "nbformat": 4,
  "nbformat_minor": 0,
  "metadata": {
    "colab": {
      "provenance": [],
      "authorship_tag": "ABX9TyM2XCreRtt+gQwkVPtThUdG",
      "include_colab_link": true
    },
    "kernelspec": {
      "name": "python3",
      "display_name": "Python 3"
    },
    "language_info": {
      "name": "python"
    }
  },
  "cells": [
    {
      "cell_type": "markdown",
      "metadata": {
        "id": "view-in-github",
        "colab_type": "text"
      },
      "source": [
        "<a href=\"https://colab.research.google.com/github/MaralAminpour/IVM_supplementary_materials/blob/main/deep_lerning_covid19.ipynb\" target=\"_parent\"><img src=\"https://colab.research.google.com/assets/colab-badge.svg\" alt=\"Open In Colab\"/></a>"
      ]
    },
    {
      "cell_type": "markdown",
      "source": [
        "# Detecting COVID-19 with Chest X-Ray using PyTorch"
      ],
      "metadata": {
        "id": "R0oRfgl2b-6-"
      }
    },
    {
      "cell_type": "markdown",
      "source": [
        "# Objectives\n",
        "\n",
        "In this notebook, we are going to focus on the following learning objectives:\n",
        "\n",
        "- Create custom Dataset and DataLoader in PyTorch\n",
        "\n",
        "- Train a ResNet-18 model in PyTorch to perform Image Classification\n",
        "\n",
        "- By the end of this course, you will be able to create Convolutional Neural Networks, and will be able to train it to classify Chest X-Ray scans with reasonably high accuracy."
      ],
      "metadata": {
        "id": "75V8RJase-Ft"
      }
    },
    {
      "cell_type": "markdown",
      "source": [
        "Project Structure\n",
        "\n",
        "The hands on project on Detecting COVID-19 with Chest X-Ray using PyTorch is divided into following tasks:\n",
        "\n",
        "Task 1: Introduction\n",
        "\n",
        "Task 2: Importing Libraries\n",
        "\n",
        "Task 3: Creating Custom Dataset\n",
        "\n",
        "Task 4: Image Transformations\n",
        "\n",
        "Task 5: Prepare DataLoader\n",
        "\n",
        "Task 6: Data Visualization\n",
        "\n",
        "Task 7: Creating the Model\n",
        "\n",
        "Task 8: Training the Model\n",
        "\n",
        "Task 9: Final Results\n",
        "\n"
      ],
      "metadata": {
        "id": "77Kl8Mnlb15U"
      }
    },
    {
      "cell_type": "markdown",
      "source": [],
      "metadata": {
        "id": "jLTPWxZFfR-O"
      }
    }
  ]
}