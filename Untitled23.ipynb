{
  "nbformat": 4,
  "nbformat_minor": 0,
  "metadata": {
    "colab": {
      "provenance": [],
      "authorship_tag": "ABX9TyNoH91w3hdCXxuW5YK5JH39",
      "include_colab_link": true
    },
    "kernelspec": {
      "name": "python3",
      "display_name": "Python 3"
    },
    "language_info": {
      "name": "python"
    }
  },
  "cells": [
    {
      "cell_type": "markdown",
      "metadata": {
        "id": "view-in-github",
        "colab_type": "text"
      },
      "source": [
        "<a href=\"https://colab.research.google.com/github/MaralAminpour/IVM_supplementary_materials/blob/main/Untitled23.ipynb\" target=\"_parent\"><img src=\"https://colab.research.google.com/assets/colab-badge.svg\" alt=\"Open In Colab\"/></a>"
      ]
    },
    {
      "cell_type": "markdown",
      "source": [
        " Let's get started on how these neat concepts can be used for dimensionality reduction, especially with Principal Component Analysis (PCA). And guess what? We'll also explore how to practically bring PCA to life using scikit-learn. Excited? Let's jump in!"
      ],
      "metadata": {
        "id": "l0OKNi7Bhvco"
      }
    },
    {
      "cell_type": "markdown",
      "source": [
        "## When to Use PCA?\n",
        "\n",
        "High-dimensional data is a common issue experienced in machine learning practices, as we typically feed a large amount of features for model training. This results in the caveat of models having **less interpretability and higher complexity** - also known as the curse of dimensionality.\n",
        "\n",
        "<img src='https://raw.githubusercontent.com/MaralAminpour/ML-BME-Course-UofA-Fall-2023/main/Week-5-Clustering%20and%20Features/imgs/curse.png' width=500px >\n",
        "\n",
        "PCA can be beneficial when the dataset is high-dimensional (i.e. contains many features) and it is widely applied for dimensionality reduction.\n",
        "\n",
        "Additionally, PCA is also used for discovering the **hidden relationship among feature variables** and **reveal underlying patterns** that could be very insightful. PCA attempts to find linear components that capture as much variance in the data as possible. And **the first principal component (PC1) is typically composed of features that contributes most to the model predictions.**"
      ],
      "metadata": {
        "id": "rXt6J_4WidPb"
      }
    },
    {
      "cell_type": "markdown",
      "source": [
        "## How Does PCA Work?\n",
        "\n",
        "Think of PCA (Principal Component Analysis) as a way to simplify a lot of data. Here's how it works in simple terms:\n",
        "\n",
        "1. We try to understand how different parts of our data change together using something called a \"covariance matrix.\"\n",
        "\n",
        "2. We then find some special directions (called \"eigenvectors\") where the data changes the most.\n",
        "\n",
        "3. These special directions help us represent our big, complicated data in a simpler way.\n",
        "\n",
        "Now, terms like \"covariance matrix\" and \"eigenvector\" might sound fancy. But they're just tools to help us see our data in a clearer way. So, instead of thinking about them as tricky math things, picture them as cool visual changes to our data. It makes understanding everything a whole lot easier!"
      ],
      "metadata": {
        "id": "m3vS1hsWkxuE"
      }
    },
    {
      "cell_type": "markdown",
      "source": [
        "You might remember us chatting about how matrices can be used in math operations, like the dot product. But did you know they can also show us cool visual changes? Let's break it down:\n",
        "\n",
        "Imagine a 2x2 grid or a tiny chessboard. This is our matrix. If you slice it down the middle, you get two lists (we call them vectors). The list on the left is like our horizontal ruler (x-axis), and the one on the right is our vertical ruler (y-axis). Together, they help create a mini world of a 2D space.\n",
        "\n",
        "Now, there's a special matrix called the \"identity matrix\". It has [1,0] for the horizontal ruler and [0,1] for the vertical one. The cool thing about it? If you mix any list (vector) with this special matrix, you get the same list back!\n",
        "\n",
        "\n",
        "<img src='https://raw.githubusercontent.com/MaralAminpour/ML-BME-Course-UofA-Fall-2023/main/Week-5-Clustering%20and%20Features/imgs/matrix1.png.webp' width=500px >\n",
        "\n",
        "Matrix transformation boils down to shifting the scale and direction of the x-axis and y-axis. Imagine the x-axis and y-axis as stretchy rubber bands on a plane. Matrix transformation is like pulling or twisting these bands in different ways.\n",
        "\n",
        "Let's say you tug the x-axis rubber band to make it twice as long. What you're doing is changing its basic direction from [1,0] to [2,0]. This means everything on that axis gets stretched out and becomes double its original size!\n",
        "\n",
        "In short, playing around with matrices is like giving a new look to our familiar x and y axes.\n",
        "\n",
        "<img src='https://raw.githubusercontent.com/MaralAminpour/ML-BME-Course-UofA-Fall-2023/main/Week-5-Clustering%20and%20Features/imgs/matrix2.png.webp' width=500px >\n",
        "\n",
        "We can additionally combine both the x-axis and y-axis for more complicated scaling, rotating or shearing transformation. A typically example is the mirror matrix where we swap the x and y axis. For a given vector [1,2], we will get [2,1] after the mirror transformation.\n",
        "\n",
        "Alright, let's jazz things up a bit. We can play with both the x-axis and y-axis together for some cool effects like stretching, spinning, or even skewing!\n",
        "\n",
        "Ever played with a mirror? Well, matrices can do something similar. Imagine a matrix that acts like a mirror, flipping the x and y axes. So, if you had a point at [1,2], after using our \"mirror\" matrix, it'll land at [2,1]. It's like giving the point a fun house mirror effect!\n",
        "\n",
        "In simple words, with matrices, we can create all sorts of fun and funky changes to our points."
      ],
      "metadata": {
        "id": "hgs6AIO5nKYZ"
      }
    },
    {
      "cell_type": "markdown",
      "source": [
        "If you would like to practice these transformations in python and skip the manual calculations, we can use following code to perform these dot products and visualize the result of the transformation using plt.quiver() function."
      ],
      "metadata": {
        "id": "K1ruAwsOnyL4"
      }
    },
    {
      "cell_type": "code",
      "source": [
        "import numpy as np\n",
        "import matplotlib.pyplot as plt\n",
        "\n",
        "# define matrices and vector\n",
        "x_scaled_matrix = np.array([[2,0],[0,1]])\n",
        "mirror_matrix = np.array([[0,1],[1,0]])\n",
        "v = np.array([1,2])\n",
        "\n",
        "# matrix transformation\n",
        "mirrored_v = mirror_matrix.dot(v)\n",
        "x_scaled_v = x_scaled_matrix.dot(v)\n",
        "\n",
        "# plot transformed vectors\n",
        "origin = np.array([[0, 0], [0, 0]])\n",
        "plt.quiver(*origin, v[0], v[1], color=['black'],scale=10, label='original vector')\n",
        "plt.quiver(*origin, mirrored_v[0], mirrored_v[1] , color=['#D3E7EE'], scale=10, label='mirrored vector' )\n",
        "plt.quiver(*origin, x_scaled_v[0], x_scaled_v[1] , color=['#C6A477'], scale=10, label='x_scaled vector')\n",
        "plt.legend(loc =\"lower right\")"
      ],
      "metadata": {
        "colab": {
          "base_uri": "https://localhost:8080/",
          "height": 467
        },
        "id": "n7y2NLB7pycZ",
        "outputId": "8b69f049-cb31-465b-f963-d201fc6274b0"
      },
      "execution_count": 1,
      "outputs": [
        {
          "output_type": "execute_result",
          "data": {
            "text/plain": [
              "<matplotlib.legend.Legend at 0x7b31e204aec0>"
            ]
          },
          "metadata": {},
          "execution_count": 1
        },
        {
          "output_type": "display_data",
          "data": {
            "text/plain": [
              "<Figure size 640x480 with 1 Axes>"
            ],
            "image/png": "[encoded data removed]"
          },
          "metadata": {}
        }
      ]
    }
  ]
}