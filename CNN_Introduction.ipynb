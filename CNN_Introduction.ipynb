{
  "nbformat": 4,
  "nbformat_minor": 0,
  "metadata": {
    "colab": {
      "provenance": [],
      "authorship_tag": "ABX9TyPqQvA3SfqLIgoBENu4U0Av",
      "include_colab_link": true
    },
    "kernelspec": {
      "name": "python3",
      "display_name": "Python 3"
    },
    "language_info": {
      "name": "python"
    }
  },
  "cells": [
    {
      "cell_type": "markdown",
      "metadata": {
        "id": "view-in-github",
        "colab_type": "text"
      },
      "source": [
        "<a href=\"https://colab.research.google.com/github/MaralAminpour/IVM_supplementary_materials/blob/main/CNN_Introduction.ipynb\" target=\"_parent\"><img src=\"https://colab.research.google.com/assets/colab-badge.svg\" alt=\"Open In Colab\"/></a>"
      ]
    },
    {
      "cell_type": "markdown",
      "source": [
        "# Computational motivations"
      ],
      "metadata": {
        "id": "fukm9Z_5b7We"
      }
    },
    {
      "cell_type": "markdown",
      "source": [
        "## Regular neural networks cannot scale to full images!\n",
        "\n",
        "\n",
        "\"MLP\" is an acronym for \"Multi-Layer Perceptron,\" which is a type of neural network characterized by multiple layers through which data passes in a feedforward manner. In the recent lecture, we explored how an MLP, also known as a fully connected network, can be trained to classify images from the MNIST dataset. The MNIST dataset comprises small, 2-dimensional grayscale images of handwritten digits, each with a resolution of 28 by 28 pixels.\n",
        "\n",
        "In contrast, the image dimensions we encounter in modern applications can be much larger. For instance, a standard JPEG image might have dimensions of 640 by 480 pixels, with an additional dimension for color channels, typically resulting in a 3-dimensional array of 640 x 480 x 3. Similarly, medical imaging, such as MRI scans of the brain, might produce volumetric data with dimensions reaching 300 x 300 x 200 voxels.\n",
        "\n",
        "If one were to connect every voxel in such large images in a fully connected network, the number of parameters to learn would be astronomically high. For example, a single fully connected layer that connects every voxel from an MRI scan with dimensions of 300 x 300 x 200 would entail learning a weight matrix with around 18 million parameters. This situation, where the number of features dwarfs the number of training examples, can lead to overfitting, where the model learns the training data too well, including its noise and anomalies. Consequently, such a model would likely perform poorly when generalizing to new, unseen data. This is a significant concern in machine learning, as it undermines the purpose of creating models that can predict and perform well on real-world data.\n",
        "\n",
        "Moreover, the utilization of fully connected layers for image data is excessively redundant. Unlike linear regression, which treats each input feature independently, image data possesses inherent structure where adjacent pixels or voxels are often correlated. This spatial correlation is a crucial piece of information that fully connected networks typically ignore.\n",
        "\n",
        "However, it is important to recognize that images are more than just collections of correlated pixels; they can be conceptualized as hierarchies of increasingly complex patterns or textures. For instance, the Fourier transform encoding of magnetic resonance images exemplifies this by decomposing images into patterns of varying spatial frequencies, from low-level textures to more complex structures. This concept is not limited to medical imaging; it also applies to natural images. The hierarchical nature of image data suggests that a different network architecture, such as convolutional neural networks (CNNs), might be more appropriate. CNNs leverage the correlated spatial information and the hierarchical structure of images by using convolutional filters to capture patterns within localized regions, allowing for a significant reduction in the number of parameters and better generalization capabilities."
      ],
      "metadata": {
        "id": "fip8n2aUbJud"
      }
    }
  ]
}