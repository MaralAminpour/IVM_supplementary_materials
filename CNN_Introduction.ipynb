{
  "nbformat": 4,
  "nbformat_minor": 0,
  "metadata": {
    "colab": {
      "provenance": [],
      "authorship_tag": "ABX9TyOT1GMNYdOtSLYGj6QEJ73V",
      "include_colab_link": true
    },
    "kernelspec": {
      "name": "python3",
      "display_name": "Python 3"
    },
    "language_info": {
      "name": "python"
    }
  },
  "cells": [
    {
      "cell_type": "markdown",
      "metadata": {
        "id": "view-in-github",
        "colab_type": "text"
      },
      "source": [
        "<a href=\"https://colab.research.google.com/github/MaralAminpour/IVM_supplementary_materials/blob/main/CNN_Introduction.ipynb\" target=\"_parent\"><img src=\"https://colab.research.google.com/assets/colab-badge.svg\" alt=\"Open In Colab\"/></a>"
      ]
    },
    {
      "cell_type": "markdown",
      "source": [
        "# Computational motivations"
      ],
      "metadata": {
        "id": "fukm9Z_5b7We"
      }
    },
    {
      "cell_type": "markdown",
      "source": [
        "## Regular neural networks cannot scale to full images!\n",
        "\n",
        "\n",
        "\"MLP\" is an acronym for \"Multi-Layer Perceptron,\" which is a type of neural network characterized by multiple layers through which data passes in a feedforward manner. In the recent lecture, we explored how an MLP, also known as a fully connected network, can be trained to classify images from the MNIST dataset. The MNIST dataset comprises small, 2-dimensional grayscale images of handwritten digits, each with a resolution of 28 by 28 pixels.\n",
        "\n",
        "In contrast, the image dimensions we encounter in modern applications can be much larger. For instance, a standard JPEG image might have dimensions of 640 by 480 pixels, with an additional dimension for color channels, typically resulting in a 3-dimensional array of 640 x 480 x 3. Similarly, medical imaging, such as MRI scans of the brain, might produce volumetric data with dimensions reaching 300 x 300 x 200 voxels.\n",
        "\n",
        "If one were to connect every voxel in such large images in a fully connected network, the number of parameters to learn would be astronomically high. For example, a single fully connected layer that connects every voxel from an MRI scan with dimensions of 300 x 300 x 200 would entail learning a weight matrix with around 18 million parameters. This situation, where the number of features dwarfs the number of training examples, can lead to overfitting, where the model learns the training data too well, including its noise and anomalies. Consequently, such a model would likely perform poorly when generalizing to new, unseen data. This is a significant concern in machine learning, as it undermines the purpose of creating models that can predict and perform well on real-world data.\n",
        "\n",
        "Moreover, the utilization of fully connected layers for image data is excessively redundant. Unlike linear regression, which treats each input feature independently, image data possesses inherent structure where adjacent pixels or voxels are often correlated. This spatial correlation is a crucial piece of information that fully connected networks typically ignore.\n",
        "\n",
        "However, it is important to recognize that images are more than just collections of correlated pixels; they can be conceptualized as hierarchies of increasingly complex patterns or textures. For instance, the Fourier transform encoding of magnetic resonance images exemplifies this by decomposing images into patterns of varying spatial frequencies, from low-level textures to more complex structures. This concept is not limited to medical imaging; it also applies to natural images. The hierarchical nature of image data suggests that a different network architecture, such as convolutional neural networks (CNNs), might be more appropriate. CNNs leverage the correlated spatial information and the hierarchical structure of images by using convolutional filters to capture patterns within localized regions, allowing for a significant reduction in the number of parameters and better generalization capabilities."
      ],
      "metadata": {
        "id": "fip8n2aUbJud"
      }
    },
    {
      "cell_type": "markdown",
      "source": [
        "## Taking inspiration from human vision\n",
        "\n",
        "The insightful observation that the mammalian brain efficiently processes visual information has inspired the structure and function of modern image recognition systems. When light reaches our eyes, the captured signals are transmitted from the retina to the primary visual cortex, known as V1, located at the back of the brain. V1 serves as a topographical map for visual stimuli: points that are close together in the visual field are processed by adjacent neurons in V1. The neurons here are adept at detecting edges and other high-frequency spatial features, acting as specialized edge detectors.\n",
        "\n",
        "As visual information progresses through the brain's visual pathway, it is relayed to subsequent cortical areas, such as V2 and V4. Each of these regions extracts and processes more complex patterns, building on the simple features identified by V1. This hierarchical processing is essential, as it allows the brain to handle complex visual tasks, such as object recognition and motion detection. For instance, object recognition involves higher-order visual areas that evolve to represent increasingly complex features until the signals reach the inferior temporal cortex. In this region, individual neurons can be highly selective, responding vigorously to specific objects, like faces.\n",
        "\n",
        "Convolutional Neural Networks (CNNs) are crafted to emulate this hierarchical processing structure. In a CNN, multiple layers of convolutional filters are applied to input images, where initial layers may resemble the function of V1 by detecting simple edges and textures. As the data passes through successive layers, the network identifies more intricate patterns, eventually recognizing whole objects within the images.\n",
        "\n",
        "This layered approach offers a substantial advantage: CNNs do not rely on spatial normalization or image registration. Therefore, there is no need to align images to a standard form or assume that corresponding pixels across different images represent identical content. This flexibility is crucial, especially when dealing with varied image presentations where direct pixel-to-pixel comparison is not feasible due to transformations such as scaling, rotation, or skewing.\n",
        "\n",
        "This characteristic of CNNs is particularly beneficial when compared to traditional machine learning (ML) techniques, which often treat input examples as flat feature vectors, comparing each feature based solely on its position within the vector. This method can suffice for simple, consistent datasets like MNIST, where the images are relatively uniform in size and position. However, it becomes impractical for more complex or varied datasets, such as those involving natural scenes or biological structures, where the spatial relationships and features cannot be neatly mapped onto a fixed vector space without losing critical structural information.\n",
        "\n",
        "Thus, CNNs represent a significant advancement over previous hand-engineered feature detection methods. They allow for the learning of features in a way that respects the intrinsic variability and complexity of the visual world, much like our own biological visual processing systems."
      ],
      "metadata": {
        "id": "1p7E4H7fcMvR"
      }
    },
    {
      "cell_type": "markdown",
      "source": [
        "\n",
        "\n",
        "---\n",
        "\n",
        "\n",
        "**More simple explanation:** Think of it like this: When you look at a picture, your brain doesn't just see a bunch of pixels; **it sees shapes, edges, and patterns**. This happens because the visual information from your eyes goes on a bit of a journey inside your brain, starting at a place called V1. This is where your brain starts to **make sense of all** the lines and edges in what you're looking at.\n",
        "\n",
        "From there, the info hops from one brain spot to another, with each stop getting better at figuring out what you're seeing — from simple patterns all the way up to complex stuff like recognizing your best friend's face in a crowd.\n",
        "\n",
        "**Now, imagine trying to teach a computer to do that.** That's where Convolutional Neural Networks (CNNs) come in. They're like a computer version of your brain's visual journey. In a CNN, the first layers are like your brain's V1 area — **good at spotting edges and basic patterns.** As you go **deeper** into the network, it **gets better** at seeing more complicated things, like shapes and eventually whole objects, **without getting confused if the picture is tilted or a little blurry.**\n",
        "\n",
        "This is super cool because, unlike older computer vision methods that needed everything lined up perfectly, CNNs can deal with pictures being all sorts of different sizes and angles — just like we do when we see something new.\n",
        "\n",
        "So, for simple stuff like the MNIST dataset where you have **digits neatly centered and looking pretty similar, old-school methods were fine.** But throw in a photo from your last vacation or a medical image, and things get trickier. **This is where CNNs really shine, handling all the messy, real-world variability** like champs, much like our own nifty brains do."
      ],
      "metadata": {
        "id": "2aSTC0X2dDZ3"
      }
    },
    {
      "cell_type": "markdown",
      "source": [
        "# Taking inspiration from human vision 2\n",
        "\n",
        "One of the standout benefits of Convolutional Neural Networks (CNNs) compared to older **feature detection techniques** is their ability to **autonomously learn features that are perfectly tailored to the specific task they are designed to solve**. This bespoke learning approach is far more efficient than the **one-size-fits-all** strategy of **hand-engineered feature detectors**.\n",
        "\n",
        "To illustrate, let's consider what happens when a CNN is trained on a dataset of **natural images**. During training, the network learns various features at different levels, which we can observe in the layers of the network. Each layer captures different **aspects** of the images: **starting from basic elements to more complex ones**.\n",
        "\n",
        "In the beginning layers, like 'layer 1', the network learns **fundamental features**. Think of these as the visual alphabet—the **edges, corners, and textures**.\n",
        "\n",
        "The \"patches\" or \"filter kernels\" learned at this stage are activated by **simple patterns in the images**. For example, a set of nine patches in 'layer 1' might all be triggered by the same edge or texture feature. As we move to **subsequent features** within this layer, different sets of patches activate for **different basic visual components.**\n",
        "\n",
        "As we progress to deeper layers, **the relationship between the learned filters and the image patches becomes more direct**. Each filter in 'layer 2' might respond to slightly more complex patterns that make up part of an object, like the contour of a petal or the curve of a shell.\n",
        "\n",
        "By the time we get to 'layer 5', the network has advanced to recognizing and responding to entire objects or significant portions of them. **The features that activate in this layer are much more sophisticated**. They could be picking up on the whole shape of a face, the form of an animal, or the circular pattern of a wheel. At this stage, the network has moved beyond the basic 'visual alphabet' and is now 'reading' and understanding complete 'visual words' or even 'visual sentences', so to speak.\n",
        "\n",
        "In summary, as a CNN learns from a dataset, it builds a **layered understanding of the visual world,** starting from the simplest elements to the most complex structures. This hierarchical learning process allows CNNs to adapt to a wide variety of visual tasks, making them extremely versatile and powerful tools in image recognition.\n",
        "\n",
        "\n",
        "---\n",
        "\n",
        "\n",
        "Think of CNNs like a team of artists learning to paint different scenes. Instead of using a one-size-fits-all set of brushes, they create their own unique brushes tailored to the specific scene they're painting. This is how CNNs get a leg up over older methods that used a standard toolkit no matter what the picture was.\n",
        "\n",
        "Let's picture a CNN in action, like a group of artists learning to paint by looking at lots of different pictures of nature. At the very start, the 'layer 1' artists are focused on the basics: they're figuring out how to draw simple lines and edges, the kind of details you'd find in leaves or the ripples of water. The patches you see labeled 'layer 1' are like their early sketches, and the images that get these newbie artists really excited (or 'activate strongly') are ones with these simple patterns.\n",
        "\n",
        "As our artistic CNN progresses to 'layer 2', the complexity ramps up. Now, they're not just drawing lines; they're putting those lines together to make textures and basic shapes—think of the patterns on a butterfly's wing or the roughness of tree bark.\n",
        "\n",
        "Fast forward to 'layer 5', and our artists are now painting whole scenes—capturing the essence of a face or the dynamic shape of a spinning wheel. It's no longer about lines or textures; it's about bringing together all these elements to recognize complex objects in their entirety.\n",
        "\n",
        "So, when you look at the examples provided for each layer, you'll notice that the early layers get excited about the simple stuff, while the later layers are all about the big picture. Just as you can clearly see the strokes in a painting that make up a tree or the sky, you can see how the features learned by the CNN reflect the intricate parts of the images they've been studying.\n",
        "\n",
        "In essence, by the time you reach the higher layers of the network, these CNNs aren't just recognizing patterns; they're identifying whole items and intricate parts of the scene—just like how we might recognize faces or objects in our everyday lives. This is the magic of CNNs; they start from scratch and build up an understanding of the visual world that's perfectly suited to the task at hand, just like a painter mastering their craft.\n",
        "\n",
        "\n",
        "\n",
        "\n",
        "---\n",
        "\n",
        "\n",
        "Drawing upon the intricate workings of the human eye and brain, Convolutional Neural Networks (CNNs) are crafted to echo the remarkable capabilities of our visual system. These sophisticated networks are structured to learn and identify patterns in a way that mirrors how we process visual information.\n",
        "\n",
        "At the outset, a CNN starts simple, learning spatial filters that can detect basic elements like edges and lines—much like the early stages of visual processing in the human brain. As the network delves deeper, these filters evolve, becoming more complex and capable of recognizing textures and patterns. This gradual progression from detecting simple edges to discerning intricate textures is akin to the visual hierarchy present in our own cognitive processing.\n",
        "\n",
        "As the layers advance, these networks become adept at identifying specific features of objects—transitioning from mere edge filters into comprehensive object detectors. This is reflective of the higher-order visual processing that occurs within the human cortex, where complex visual stimuli are interpreted and understood.\n",
        "\n",
        "One of the most revolutionary aspects of CNNs is their ability to learn directly from the data, which eliminates the need for explicit prior modelling or spatial normalization of the signal. This quality is particularly advantageous because, in human vision, we do not consciously model or standardize visual inputs; our brains naturally adjust and recognize objects regardless of variations in size, position, or orientation.\n",
        "\n",
        "By embracing this approach, CNNs can process and understand visual inputs in their raw form, accommodating a wide range of variations and inconsistencies in the images. This flexibility allows CNNs to perform robustly in real-world applications where the conditions are rarely controlled or uniform, much like our own visual experiences. It's this adaptability, inspired by the fluidity of human sight, that makes CNNs a groundbreaking tool in the field of computer vision."
      ],
      "metadata": {
        "id": "grhCFOGreUu7"
      }
    },
    {
      "cell_type": "markdown",
      "source": [
        "## Taking inspiration from human vision\n",
        "\n",
        "Much like our own visual system's versatility in handling a variety of visual tasks, Convolutional Neural Networks (CNNs) are trained to master a wide array of visual recognition challenges. For instance, they can be taught to classify objects by identifying and labeling what they represent in an image—a process known as object classification. Here, a CNN might look at an image and discern that it's a car.\n",
        "\n",
        "But their skills don't end there. CNNs can also pinpoint the exact location of an object within an image, a task referred to as object localization. It's like when you're looking for your car in a parking lot; a CNN can scan an image and tell you right where the car is sitting on the grid. Furthermore, CNNs can go even deeper with semantic segmentation, which is like coloring in a picture by labels. In this case, the CNN would color in all the pixels that make up the car, effectively segmenting it from the rest of the image.\n",
        "\n",
        "However, it's important to note that while our human visual system is a generalist—capable of shifting effortlessly between different visual tasks without needing to relearn how to see—CNNs often require specialized designs for each specific task. The architecture that excels at classifying images may not be the best for localizing objects or segmenting them, necessitating different CNN configurations for each task.\n",
        "\n",
        "Despite this, the field is actively evolving, and researchers are continually drawing inspiration from the mammalian brain to create more flexible and general-purpose CNNs. The goal is to achieve a level of generalization akin to human vision, where a single system can adapt and excel across a variety of tasks with ease. The journey of improving CNNs is an ongoing testament to the profound impact that studying natural intelligence systems has on the advancement of artificial ones."
      ],
      "metadata": {
        "id": "1G29z_sahEUQ"
      }
    }
  ]
}