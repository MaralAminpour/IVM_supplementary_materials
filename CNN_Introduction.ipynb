{
  "nbformat": 4,
  "nbformat_minor": 0,
  "metadata": {
    "colab": {
      "provenance": [],
      "authorship_tag": "ABX9TyNMDjLGmx0hI23Ah73kCENC",
      "include_colab_link": true
    },
    "kernelspec": {
      "name": "python3",
      "display_name": "Python 3"
    },
    "language_info": {
      "name": "python"
    }
  },
  "cells": [
    {
      "cell_type": "markdown",
      "metadata": {
        "id": "view-in-github",
        "colab_type": "text"
      },
      "source": [
        "<a href=\"https://colab.research.google.com/github/MaralAminpour/IVM_supplementary_materials/blob/main/CNN_Introduction.ipynb\" target=\"_parent\"><img src=\"https://colab.research.google.com/assets/colab-badge.svg\" alt=\"Open In Colab\"/></a>"
      ]
    },
    {
      "cell_type": "markdown",
      "source": [
        "# Computational motivations"
      ],
      "metadata": {
        "id": "fukm9Z_5b7We"
      }
    },
    {
      "cell_type": "markdown",
      "source": [
        "## Regular neural networks cannot scale to full images!\n",
        "\n",
        "\n",
        "\"MLP\" is an acronym for \"Multi-Layer Perceptron,\" which is a type of neural network characterized by multiple layers through which data passes in a feedforward manner. In the recent lecture, we explored how an MLP, also known as a fully connected network, can be trained to classify images from the MNIST dataset. The MNIST dataset comprises small, 2-dimensional grayscale images of handwritten digits, each with a resolution of 28 by 28 pixels.\n",
        "\n",
        "In contrast, the image dimensions we encounter in modern applications can be much larger. For instance, a standard JPEG image might have dimensions of 640 by 480 pixels, with an additional dimension for color channels, typically resulting in a 3-dimensional array of 640 x 480 x 3. Similarly, medical imaging, such as MRI scans of the brain, might produce volumetric data with dimensions reaching 300 x 300 x 200 voxels.\n",
        "\n",
        "If one were to connect every voxel in such large images in a fully connected network, the number of parameters to learn would be astronomically high. For example, a single fully connected layer that connects every voxel from an MRI scan with dimensions of 300 x 300 x 200 would entail learning a weight matrix with around 18 million parameters. This situation, where the number of features dwarfs the number of training examples, can lead to overfitting, where the model learns the training data too well, including its noise and anomalies. Consequently, such a model would likely perform poorly when generalizing to new, unseen data. This is a significant concern in machine learning, as it undermines the purpose of creating models that can predict and perform well on real-world data.\n",
        "\n",
        "Moreover, the utilization of fully connected layers for image data is excessively redundant. Unlike linear regression, which treats each input feature independently, image data possesses inherent structure where adjacent pixels or voxels are often correlated. This spatial correlation is a crucial piece of information that fully connected networks typically ignore.\n",
        "\n",
        "However, it is important to recognize that images are more than just collections of correlated pixels; they can be conceptualized as hierarchies of increasingly complex patterns or textures. For instance, the Fourier transform encoding of magnetic resonance images exemplifies this by decomposing images into patterns of varying spatial frequencies, from low-level textures to more complex structures. This concept is not limited to medical imaging; it also applies to natural images. The hierarchical nature of image data suggests that a different network architecture, such as convolutional neural networks (CNNs), might be more appropriate. CNNs leverage the correlated spatial information and the hierarchical structure of images by using convolutional filters to capture patterns within localized regions, allowing for a significant reduction in the number of parameters and better generalization capabilities."
      ],
      "metadata": {
        "id": "fip8n2aUbJud"
      }
    },
    {
      "cell_type": "markdown",
      "source": [
        "## Taking inspiration from human vision\n",
        "\n",
        "The insightful observation that the mammalian brain efficiently processes visual information has inspired the structure and function of modern image recognition systems. When light reaches our eyes, the captured signals are transmitted from the retina to the primary visual cortex, known as V1, located at the back of the brain. V1 serves as a topographical map for visual stimuli: points that are close together in the visual field are processed by adjacent neurons in V1. The neurons here are adept at detecting edges and other high-frequency spatial features, acting as specialized edge detectors.\n",
        "\n",
        "As visual information progresses through the brain's visual pathway, it is relayed to subsequent cortical areas, such as V2 and V4. Each of these regions extracts and processes more complex patterns, building on the simple features identified by V1. This hierarchical processing is essential, as it allows the brain to handle complex visual tasks, such as object recognition and motion detection. For instance, object recognition involves higher-order visual areas that evolve to represent increasingly complex features until the signals reach the inferior temporal cortex. In this region, individual neurons can be highly selective, responding vigorously to specific objects, like faces.\n",
        "\n",
        "Convolutional Neural Networks (CNNs) are crafted to emulate this hierarchical processing structure. In a CNN, multiple layers of convolutional filters are applied to input images, where initial layers may resemble the function of V1 by detecting simple edges and textures. As the data passes through successive layers, the network identifies more intricate patterns, eventually recognizing whole objects within the images.\n",
        "\n",
        "This layered approach offers a substantial advantage: CNNs do not rely on spatial normalization or image registration. Therefore, there is no need to align images to a standard form or assume that corresponding pixels across different images represent identical content. This flexibility is crucial, especially when dealing with varied image presentations where direct pixel-to-pixel comparison is not feasible due to transformations such as scaling, rotation, or skewing.\n",
        "\n",
        "This characteristic of CNNs is particularly beneficial when compared to traditional machine learning (ML) techniques, which often treat input examples as flat feature vectors, comparing each feature based solely on its position within the vector. This method can suffice for simple, consistent datasets like MNIST, where the images are relatively uniform in size and position. However, it becomes impractical for more complex or varied datasets, such as those involving natural scenes or biological structures, where the spatial relationships and features cannot be neatly mapped onto a fixed vector space without losing critical structural information.\n",
        "\n",
        "Thus, CNNs represent a significant advancement over previous hand-engineered feature detection methods. They allow for the learning of features in a way that respects the intrinsic variability and complexity of the visual world, much like our own biological visual processing systems."
      ],
      "metadata": {
        "id": "1p7E4H7fcMvR"
      }
    },
    {
      "cell_type": "markdown",
      "source": [
        "\n",
        "\n",
        "---\n",
        "\n",
        "\n",
        "**More simple explanation:** Think of it like this: When you look at a picture, your brain doesn't just see a bunch of pixels; **it sees shapes, edges, and patterns**. This happens because the visual information from your eyes goes on a bit of a journey inside your brain, starting at a place called V1. This is where your brain starts to **make sense of all** the lines and edges in what you're looking at.\n",
        "\n",
        "From there, the info hops from one brain spot to another, with each stop getting better at figuring out what you're seeing — from simple patterns all the way up to complex stuff like recognizing your best friend's face in a crowd.\n",
        "\n",
        "**Now, imagine trying to teach a computer to do that.** That's where Convolutional Neural Networks (CNNs) come in. They're like a computer version of your brain's visual journey. In a CNN, the first layers are like your brain's V1 area — **good at spotting edges and basic patterns.** As you go **deeper** into the network, it **gets better** at seeing more complicated things, like shapes and eventually whole objects, **without getting confused if the picture is tilted or a little blurry.**\n",
        "\n",
        "This is super cool because, unlike older computer vision methods that needed everything lined up perfectly, CNNs can deal with pictures being all sorts of different sizes and angles — just like we do when we see something new.\n",
        "\n",
        "So, for simple stuff like the MNIST dataset where you have **digits neatly centered and looking pretty similar, old-school methods were fine.** But throw in a photo from your last vacation or a medical image, and things get trickier. **This is where CNNs really shine, handling all the messy, real-world variability** like champs, much like our own nifty brains do."
      ],
      "metadata": {
        "id": "2aSTC0X2dDZ3"
      }
    },
    {
      "cell_type": "markdown",
      "source": [
        "# Taking inspiration from human vision 2\n",
        "\n",
        "One of the standout benefits of Convolutional Neural Networks (CNNs) compared to older **feature detection techniques** is their ability to **autonomously learn features that are perfectly tailored to the specific task they are designed to solve**. This bespoke learning approach is far more efficient than the **one-size-fits-all** strategy of **hand-engineered feature detectors**.\n",
        "\n",
        "To illustrate, let's consider what happens when a CNN is trained on a dataset of **natural images**. During training, the network learns various features at different levels, which we can observe in the layers of the network. Each layer captures different **aspects** of the images: **starting from basic elements to more complex ones**.\n",
        "\n",
        "In the beginning layers, like 'layer 1', the network learns **fundamental features**. Think of these as the visual alphabet—the **edges, corners, and textures**.\n",
        "\n",
        "The \"patches\" or \"filter kernels\" learned at this stage are activated by **simple patterns in the images**. For example, a set of nine patches in 'layer 1' might all be triggered by the same edge or texture feature. As we move to **subsequent features** within this layer, different sets of patches activate for **different basic visual components.**\n",
        "\n",
        "As we progress to deeper layers, **the relationship between the learned filters and the image patches becomes more direct**. Each filter in 'layer 2' might respond to slightly more complex patterns that make up part of an object, like the contour of a petal or the curve of a shell.\n",
        "\n",
        "By the time we get to 'layer 5', the network has advanced to recognizing and responding to entire objects or significant portions of them. **The features that activate in this layer are much more sophisticated**. They could be picking up on the whole shape of a face, the form of an animal, or the circular pattern of a wheel. At this stage, the network has moved beyond the basic 'visual alphabet' and is now 'reading' and understanding complete 'visual words' or even 'visual sentences', so to speak.\n",
        "\n",
        "In summary, as a CNN learns from a dataset, it builds a **layered understanding of the visual world,** starting from the simplest elements to the most complex structures. This hierarchical learning process allows CNNs to adapt to a wide variety of visual tasks, making them extremely versatile and powerful tools in image recognition.\n",
        "\n",
        "\n",
        "---\n",
        "\n",
        "\n",
        "Think of CNNs like a team of artists learning to paint different scenes. Instead of using a one-size-fits-all set of brushes, they create their own unique brushes tailored to the specific scene they're painting. This is how CNNs get a leg up over older methods that used a standard toolkit no matter what the picture was.\n",
        "\n",
        "Let's picture a CNN in action, like a group of artists learning to paint by looking at lots of different pictures of nature. At the very start, the 'layer 1' artists are focused on the basics: they're figuring out how to draw simple lines and edges, the kind of details you'd find in leaves or the ripples of water. The patches you see labeled 'layer 1' are like their early sketches, and the images that get these newbie artists really excited (or 'activate strongly') are ones with these simple patterns.\n",
        "\n",
        "As our artistic CNN progresses to 'layer 2', the complexity ramps up. Now, they're not just drawing lines; they're putting those lines together to make textures and basic shapes—think of the patterns on a butterfly's wing or the roughness of tree bark.\n",
        "\n",
        "Fast forward to 'layer 5', and our artists are now painting whole scenes—capturing the essence of a face or the dynamic shape of a spinning wheel. It's no longer about lines or textures; it's about bringing together all these elements to recognize complex objects in their entirety.\n",
        "\n",
        "So, when you look at the examples provided for each layer, you'll notice that the early layers get excited about the simple stuff, while the later layers are all about the big picture. Just as you can clearly see the strokes in a painting that make up a tree or the sky, you can see how the features learned by the CNN reflect the intricate parts of the images they've been studying.\n",
        "\n",
        "In essence, by the time you reach the higher layers of the network, these CNNs aren't just recognizing patterns; they're identifying whole items and intricate parts of the scene—just like how we might recognize faces or objects in our everyday lives. This is the magic of CNNs; they start from scratch and build up an understanding of the visual world that's perfectly suited to the task at hand, just like a painter mastering their craft.\n",
        "\n",
        "\n",
        "\n",
        "\n",
        "---\n",
        "\n",
        "\n",
        "Drawing upon the intricate workings of the human eye and brain, Convolutional Neural Networks (CNNs) are crafted to echo the remarkable capabilities of our visual system. These sophisticated networks are structured to learn and identify patterns in a way that mirrors how we process visual information.\n",
        "\n",
        "At the outset, a CNN starts simple, learning spatial filters that can detect basic elements like edges and lines—much like the early stages of visual processing in the human brain. As the network delves deeper, these filters evolve, becoming more complex and capable of recognizing textures and patterns. This gradual progression from detecting simple edges to discerning intricate textures is akin to the visual hierarchy present in our own cognitive processing.\n",
        "\n",
        "As the layers advance, these networks become adept at identifying specific features of objects—transitioning from mere edge filters into comprehensive object detectors. This is reflective of the higher-order visual processing that occurs within the human cortex, where complex visual stimuli are interpreted and understood.\n",
        "\n",
        "One of the most revolutionary aspects of CNNs is their ability to learn directly from the data, which eliminates the need for explicit prior modelling or spatial normalization of the signal. This quality is particularly advantageous because, in human vision, we do not consciously model or standardize visual inputs; our brains naturally adjust and recognize objects regardless of variations in size, position, or orientation.\n",
        "\n",
        "By embracing this approach, CNNs can process and understand visual inputs in their raw form, accommodating a wide range of variations and inconsistencies in the images. This flexibility allows CNNs to perform robustly in real-world applications where the conditions are rarely controlled or uniform, much like our own visual experiences. It's this adaptability, inspired by the fluidity of human sight, that makes CNNs a groundbreaking tool in the field of computer vision."
      ],
      "metadata": {
        "id": "grhCFOGreUu7"
      }
    },
    {
      "cell_type": "markdown",
      "source": [
        "## Taking inspiration from human vision\n",
        "\n",
        "Much like our own visual system's versatility in handling a variety of visual tasks, Convolutional Neural Networks (CNNs) are trained to master a wide array of visual recognition challenges. For instance, they can be taught to classify objects by identifying and labeling what they represent in an image—a process known as object classification. Here, a CNN might look at an image and discern that it's a car.\n",
        "\n",
        "But their skills don't end there. CNNs can also pinpoint the exact location of an object within an image, a task referred to as object localization. It's like when you're looking for your car in a parking lot; a CNN can scan an image and tell you right where the car is sitting on the grid. Furthermore, CNNs can go even deeper with semantic segmentation, which is like coloring in a picture by labels. In this case, the CNN would color in all the pixels that make up the car, effectively segmenting it from the rest of the image.\n",
        "\n",
        "However, it's important to note that while our human visual system is a generalist—capable of shifting effortlessly between different visual tasks without needing to relearn how to see—CNNs often require specialized designs for each specific task. The architecture that excels at classifying images may not be the best for localizing objects or segmenting them, necessitating different CNN configurations for each task.\n",
        "\n",
        "Despite this, the field is actively evolving, and researchers are continually drawing inspiration from the mammalian brain to create more flexible and general-purpose CNNs. The goal is to achieve a level of generalization akin to human vision, where a single system can adapt and excel across a variety of tasks with ease. The journey of improving CNNs is an ongoing testament to the profound impact that studying natural intelligence systems has on the advancement of artificial ones."
      ],
      "metadata": {
        "id": "1G29z_sahEUQ"
      }
    },
    {
      "cell_type": "markdown",
      "source": [
        "## The convolution operation\n",
        "\n",
        "The convolution operation is a fundamental process in image processing, particularly in the detection of edges within images. This is where Sobel edge detectors come into play, which are designed to perform this task through two specific filters: one that identifies horizontal edges and another for vertical edges.\n",
        "\n",
        "These Sobel filters work by approximating the gradient of the image. The gradient here refers to the rate of change in brightness across the image. In places where there's a sharp change in intensity, like the edge of an object, the gradient is large. The horizontal filter, with its unique arrangement of positive and negative values, highlights areas of the image where there's a significant horizontal change in intensity. Similarly, the vertical filter is tuned to capture sharp changes in the vertical direction.\n",
        "\n",
        "When these filters are 'convolved' over the image—meaning they are passed over every part of the image and applied to each pixel—they compute the finite-difference approximation of the gradient. This convolution process results in a new image where the intensity of each pixel corresponds to the strength of the gradient at that point. So, in the output image, the edges—places where the original image changes rapidly from dark to light or vice versa—stand out as areas of high intensity. This technique is especially useful in many computer vision tasks because edges are critical for understanding the structure and shape of objects within images."
      ],
      "metadata": {
        "id": "Et199TLmhu6D"
      }
    },
    {
      "cell_type": "markdown",
      "source": [
        "## Convolved meaning\n",
        "\n",
        "The word \"convolved\" is derived from the mathematical operation known as convolution. To convolve means to roll or fold together; it describes the process of combining two sets of information. In the context of mathematics and signal processing, convolution is a formal operation that expresses how the shape of one function is modified by another function.\n",
        "\n",
        "When one function is convolved with another, the convolution reflects how the shape of one is \"smeared\" by the other. In the context of image processing, for example, convolving an image with a filter means taking each point of the image and combining it with surrounding points based on the pattern defined by the filter. This operation is fundamental in many applications, such as edge detection, blurring, and sharpening in images, as well as in signal processing and time series analysis.\n",
        "\n",
        "\n",
        "\n",
        "---\n",
        "\n",
        "The term \"convolved\" refers to the process of applying a convolution operation, which is a fundamental mathematical operation in the field of image processing and analysis. When an image is convolved with a filter (also known as a kernel), the filter is slid over the image, usually from the top-left corner to the bottom-right corner, and at each position, a mathematical operation is performed.\n",
        "\n",
        "Here's a step-by-step breakdown of what happens during convolution:\n",
        "\n",
        "1. **Overlay**: The filter is placed on top of the image such that it covers a portion of the image the same size as the filter.\n",
        "\n",
        "2. **Element-wise Multiplication**: Each element of the filter is multiplied by the corresponding element of the image it covers.\n",
        "\n",
        "3. **Summation**: The results of the multiplications are then summed up to get a single number.\n",
        "\n",
        "4. **Replace**: This single number replaces the pixel value at the location of the center of the filter.\n",
        "\n",
        "5. **Slide**: The filter is then moved (or slid) across to the next position on the image, and the process is repeated.\n",
        "\n",
        "This operation essentially mixes the filter's values with the image's values, allowing features like edges, textures, or patterns to be accentuated depending on the type of filter used. For edge detection, as in the case of the Sobel filters, the convolution process calculates how much the intensity changes in a local area of the image, which corresponds to the presence of edges."
      ],
      "metadata": {
        "id": "fQCUe82KiX69"
      }
    },
    {
      "cell_type": "markdown",
      "source": [
        "## Prior to CNNs … Hand Engineered Features\n",
        "\n",
        "The convolutional* operation **bold text**\n"
      ],
      "metadata": {
        "id": "jt1FDpv4jSnE"
      }
    },
    {
      "cell_type": "markdown",
      "source": [
        "## Convolution in Mathematics\n",
        "\n",
        "The word \"convolution\" is a mathematical operation on two functions that produces a third function expressing how **the shape of one is modified by the other**. The term is derived from the mathematical convolution operation, which involves **multiplying two functions after one has been flipped and shifted.**\n",
        "\n",
        "Here's a more technical explanation:\n",
        "\n",
        "In the context of mathematics, especially in signal processing, convolution is **a function derived from two given functions by integration that expresses how the shape of one is modified by the other.** The mathematical expression for the continuous convolution of two functions $ f $ and $ g $ is written as:\n",
        "\n",
        "$$\n",
        "(f * g)(t) = \\int_{-\\infty}^{+\\infty} f(\\tau) g(t - \\tau) d\\tau\n",
        "$$\n",
        "\n",
        "Here, one function is reversed and shifted, and then integrated across the domain of the other function. In discrete systems, such as image processing with digital computers, the integral is replaced by a sum:\n",
        "\n",
        "$$\n",
        "(f * g)[n] = \\sum_{m=-\\infty}^{+\\infty} f[m] g[n - m]\n",
        "$$\n",
        "\n",
        "This operation slides the $ g $ function over $ f $, multiplying and accumulating the overlap values at each position.\n",
        "\n",
        "In the context of CNNs, this mathematical concept is used to apply filters to an input (like an image) to create feature maps, effectively transforming the input data to highlight certain features.\n",
        "\n",
        "\n",
        "\n",
        "---\n",
        "\n",
        "Certainly, the concept of convolution in the context of Convolutional Neural Networks (CNNs) is directly adapted from the mathematical operation of convolution.\n",
        "\n",
        "In CNNs, the convolution operation involves the following steps:\n",
        "\n",
        "1. **Filters**: CNNs use filters (also called kernels), which are small matrices of learnable weights. These filters are analogous to the function $ g $ in the convolution formula.\n",
        "\n",
        "2. **Input Data**: The input data (like an image) to which the filters are applied can be thought of as the function $ f $ in the convolution formula.\n",
        "\n",
        "3. **Convolution Operation**: As in the mathematical definition, the filter is applied across the input data. For each position of the filter on the input, the element-wise multiplication is performed between the filter and the part of the input it covers, and then the results are summed up to get a single value. This is similar to the discrete convolution formula:\n",
        "\n",
        "$$\n",
        "(f * g)[n] = \\sum_{m} f[m] g[n - m]\n",
        "$$\n",
        "\n",
        "In this context, $ n $ would be the current position of the filter on the input, $ m $ would represent the elements of the filter, and $ f[m] $ and $ g[n - m] $ would represent the corresponding elements from the input data and the filter, respectively.\n",
        "\n",
        "4. **Feature Maps**: The result of this convolution operation across the entire input creates a feature map, which highlights features from the input that the filter is designed to detect, such as edges or textures.\n",
        "\n",
        "5. **Learning Process**: In a trained CNN, the values of the filter weights are learned through backpropagation. As the network is exposed to more data, it adjusts these weights to minimize the difference between the predicted output and the actual output.\n",
        "\n",
        "6. **Stacking Layers**: CNNs typically have multiple layers of convolutions, with each layer designed to detect increasingly complex features. The first layer might detect simple edges, while deeper layers might detect more complex patterns by convolving over the feature maps produced by previous layers.\n",
        "\n",
        "In summary, CNNs use the convolution operation to systematically apply filters to input data, creating feature maps that represent the presence of specific features within the data. This is how CNNs are able to learn from visual data and perform tasks such as image and video recognition."
      ],
      "metadata": {
        "id": "FolNzA2Xbq_w"
      }
    },
    {
      "cell_type": "markdown",
      "source": [
        "## Taking inspiration from human vision\n",
        "\n",
        "1. **Designed to Mimic the Human Visual System**:\n",
        "   - Explanation: Our visual system processes images in a stepwise manner, from simple to complex. Signals from the eyes are sent to the primary visual cortex (V1), which acts like a series of edge detectors.\n",
        "   - Example: When you look at a tree, your eyes first detect the edges and contours before recognizing it as a tree.\n",
        "   - Relation to Outline: CNNs are structured similarly, with initial layers acting as edge detectors, much like the V1 region in the brain.\n",
        "\n",
        "2. **Learns Spatial Filters of Increasing Complexity**:\n",
        "   - Explanation: After the initial edge detection in V1, the visual signals are passed to subsequent visual regions (V2, V3, etc.) that detect more complex patterns and textures.\n",
        "   - Example: After recognizing edges, your brain begins to notice the bark's texture, the leaves' shapes, and how they overlap and form the tree's canopy.\n",
        "   - Relation to Outline: In CNNs, after the first layers learn to detect edges, the following layers learn filters that can detect more complex features like textures and object parts.\n",
        "\n",
        "3. **From Edge Filters to Object Detectors**:\n",
        "   - Explanation: As the visual signals move through the higher visual regions in the brain, they become increasingly abstract, and certain cells in the inferior temporal cortex may respond specifically to complex objects, like faces.\n",
        "   - Example: Your brain not only sees a tree but can also differentiate between types of trees, or recognize a face in a crowd.\n",
        "   - Relation to Outline: Similarly, deeper layers in CNNs learn to detect complex objects as a whole, moving from simple edge detection to comprehensive object detection.\n",
        "\n",
        "4. **Removes Requirement for Spatial Normalisation of the Signal**:\n",
        "   - Explanation: Traditional machine learning models require images to be normalized or registered so that corresponding pixels are compared. However, this is not viable for images with complex variations.\n",
        "   - Example: Imagine trying to compare two pictures of the same breed of dog, but one is closer to the camera than the other. Traditional methods would struggle unless the images are normalized to align them perfectly.\n",
        "   - Relation to Outline: CNNs do not require such normalization because they learn to recognize features regardless of their position in the image, similar to how our visual system can recognize objects regardless of their location in our field of view.\n",
        "\n",
        "In summary, CNNs are designed to process visual information in a way that closely resembles the hierarchical, multi-stage processing of the human visual system, starting from basic edge detection and culminating in the recognition of complex objects. This design allows CNNs to handle the variability and complexity found in real-world visual scenes without the rigid spatial normalization required by traditional image processing and machine learning techniques."
      ],
      "metadata": {
        "id": "3VDTTi4RqTcf"
      }
    }
  ]
}