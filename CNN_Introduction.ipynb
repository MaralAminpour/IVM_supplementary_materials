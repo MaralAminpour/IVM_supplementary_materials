{
  "nbformat": 4,
  "nbformat_minor": 0,
  "metadata": {
    "colab": {
      "provenance": [],
      "authorship_tag": "ABX9TyNVvZ7nzwhyna69tmJpsghs",
      "include_colab_link": true
    },
    "kernelspec": {
      "name": "python3",
      "display_name": "Python 3"
    },
    "language_info": {
      "name": "python"
    }
  },
  "cells": [
    {
      "cell_type": "markdown",
      "metadata": {
        "id": "view-in-github",
        "colab_type": "text"
      },
      "source": [
        "<a href=\"https://colab.research.google.com/github/MaralAminpour/IVM_supplementary_materials/blob/main/CNN_Introduction.ipynb\" target=\"_parent\"><img src=\"https://colab.research.google.com/assets/colab-badge.svg\" alt=\"Open In Colab\"/></a>"
      ]
    },
    {
      "cell_type": "markdown",
      "source": [
        "# Computational motivations"
      ],
      "metadata": {
        "id": "fukm9Z_5b7We"
      }
    },
    {
      "cell_type": "markdown",
      "source": [
        "## Regular neural networks cannot scale to full images!\n",
        "\n",
        "\n",
        "\"MLP\" is an acronym for \"Multi-Layer Perceptron,\" which is a type of neural network characterized by multiple layers through which data passes in a feedforward manner. In the recent lecture, we explored how an MLP, also known as a fully connected network, can be trained to classify images from the MNIST dataset. The MNIST dataset comprises small, 2-dimensional grayscale images of handwritten digits, each with a resolution of 28 by 28 pixels.\n",
        "\n",
        "In contrast, the image dimensions we encounter in modern applications can be much larger. For instance, a standard JPEG image might have dimensions of 640 by 480 pixels, with an additional dimension for color channels, typically resulting in a 3-dimensional array of 640 x 480 x 3. Similarly, medical imaging, such as MRI scans of the brain, might produce volumetric data with dimensions reaching 300 x 300 x 200 voxels.\n",
        "\n",
        "If one were to connect every voxel in such large images in a fully connected network, the number of parameters to learn would be astronomically high. For example, a single fully connected layer that connects every voxel from an MRI scan with dimensions of 300 x 300 x 200 would entail learning a weight matrix with around 18 million parameters. This situation, where the number of features dwarfs the number of training examples, can lead to overfitting, where the model learns the training data too well, including its noise and anomalies. Consequently, such a model would likely perform poorly when generalizing to new, unseen data. This is a significant concern in machine learning, as it undermines the purpose of creating models that can predict and perform well on real-world data.\n",
        "\n",
        "Moreover, the utilization of fully connected layers for image data is excessively redundant. Unlike linear regression, which treats each input feature independently, image data possesses inherent structure where adjacent pixels or voxels are often correlated. This spatial correlation is a crucial piece of information that fully connected networks typically ignore.\n",
        "\n",
        "However, it is important to recognize that images are more than just collections of correlated pixels; they can be conceptualized as hierarchies of increasingly complex patterns or textures. For instance, the Fourier transform encoding of magnetic resonance images exemplifies this by decomposing images into patterns of varying spatial frequencies, from low-level textures to more complex structures. This concept is not limited to medical imaging; it also applies to natural images. The hierarchical nature of image data suggests that a different network architecture, such as convolutional neural networks (CNNs), might be more appropriate. CNNs leverage the correlated spatial information and the hierarchical structure of images by using convolutional filters to capture patterns within localized regions, allowing for a significant reduction in the number of parameters and better generalization capabilities."
      ],
      "metadata": {
        "id": "fip8n2aUbJud"
      }
    },
    {
      "cell_type": "markdown",
      "source": [
        "## Taking inspiration from human vision\n",
        "\n",
        "The insightful observation that the mammalian brain efficiently processes visual information has inspired the structure and function of modern image recognition systems. When light reaches our eyes, the captured signals are transmitted from the retina to the primary visual cortex, known as V1, located at the back of the brain. V1 serves as a topographical map for visual stimuli: points that are close together in the visual field are processed by adjacent neurons in V1. The neurons here are adept at detecting edges and other high-frequency spatial features, acting as specialized edge detectors.\n",
        "\n",
        "As visual information progresses through the brain's visual pathway, it is relayed to subsequent cortical areas, such as V2 and V4. Each of these regions extracts and processes more complex patterns, building on the simple features identified by V1. This hierarchical processing is essential, as it allows the brain to handle complex visual tasks, such as object recognition and motion detection. For instance, object recognition involves higher-order visual areas that evolve to represent increasingly complex features until the signals reach the inferior temporal cortex. In this region, individual neurons can be highly selective, responding vigorously to specific objects, like faces.\n",
        "\n",
        "Convolutional Neural Networks (CNNs) are crafted to emulate this hierarchical processing structure. In a CNN, multiple layers of convolutional filters are applied to input images, where initial layers may resemble the function of V1 by detecting simple edges and textures. As the data passes through successive layers, the network identifies more intricate patterns, eventually recognizing whole objects within the images.\n",
        "\n",
        "This layered approach offers a substantial advantage: CNNs do not rely on spatial normalization or image registration. Therefore, there is no need to align images to a standard form or assume that corresponding pixels across different images represent identical content. This flexibility is crucial, especially when dealing with varied image presentations where direct pixel-to-pixel comparison is not feasible due to transformations such as scaling, rotation, or skewing.\n",
        "\n",
        "This characteristic of CNNs is particularly beneficial when compared to traditional machine learning (ML) techniques, which often treat input examples as flat feature vectors, comparing each feature based solely on its position within the vector. This method can suffice for simple, consistent datasets like MNIST, where the images are relatively uniform in size and position. However, it becomes impractical for more complex or varied datasets, such as those involving natural scenes or biological structures, where the spatial relationships and features cannot be neatly mapped onto a fixed vector space without losing critical structural information.\n",
        "\n",
        "Thus, CNNs represent a significant advancement over previous hand-engineered feature detection methods. They allow for the learning of features in a way that respects the intrinsic variability and complexity of the visual world, much like our own biological visual processing systems."
      ],
      "metadata": {
        "id": "1p7E4H7fcMvR"
      }
    },
    {
      "cell_type": "markdown",
      "source": [
        "\n",
        "\n",
        "---\n",
        "\n",
        "\n",
        "**More simple explanation:** Think of it like this: When you look at a picture, your brain doesn't just see a bunch of pixels; **it sees shapes, edges, and patterns**. This happens because the visual information from your eyes goes on a bit of a journey inside your brain, starting at a place called V1. This is where your brain starts to **make sense of all** the lines and edges in what you're looking at.\n",
        "\n",
        "From there, the info hops from one brain spot to another, with each stop getting better at figuring out what you're seeing — from simple patterns all the way up to complex stuff like recognizing your best friend's face in a crowd.\n",
        "\n",
        "**Now, imagine trying to teach a computer to do that.** That's where Convolutional Neural Networks (CNNs) come in. They're like a computer version of your brain's visual journey. In a CNN, the first layers are like your brain's V1 area — **good at spotting edges and basic patterns.** As you go **deeper** into the network, it **gets better** at seeing more complicated things, like shapes and eventually whole objects, **without getting confused if the picture is tilted or a little blurry.**\n",
        "\n",
        "This is super cool because, unlike older computer vision methods that needed everything lined up perfectly, CNNs can deal with pictures being all sorts of different sizes and angles — just like we do when we see something new.\n",
        "\n",
        "So, for simple stuff like the MNIST dataset where you have **digits neatly centered and looking pretty similar, old-school methods were fine.** But throw in a photo from your last vacation or a medical image, and things get trickier. **This is where CNNs really shine, handling all the messy, real-world variability** like champs, much like our own nifty brains do."
      ],
      "metadata": {
        "id": "2aSTC0X2dDZ3"
      }
    },
    {
      "cell_type": "markdown",
      "source": [
        "# Taking inspiration from human vision 2\n",
        "\n",
        "One of the standout benefits of Convolutional Neural Networks (CNNs) compared to older **feature detection techniques** is their ability to **autonomously learn features that are perfectly tailored to the specific task they are designed to solve**. This bespoke learning approach is far more efficient than the **one-size-fits-all** strategy of **hand-engineered feature detectors**.\n",
        "\n",
        "To illustrate, let's consider what happens when a CNN is trained on a dataset of **natural images**. During training, the network learns various features at different levels, which we can observe in the layers of the network. Each layer captures different **aspects** of the images: **starting from basic elements to more complex ones**.\n",
        "\n",
        "In the beginning layers, like 'layer 1', the network learns **fundamental features**. Think of these as the visual alphabet—the **edges, corners, and textures**.\n",
        "\n",
        "The \"patches\" or \"filter kernels\" learned at this stage are activated by **simple patterns in the images**. For example, a set of nine patches in 'layer 1' might all be triggered by the same edge or texture feature. As we move to **subsequent features** within this layer, different sets of patches activate for **different basic visual components.**\n",
        "\n",
        "As we progress to deeper layers, **the relationship between the learned filters and the image patches becomes more direct**. Each filter in 'layer 2' might respond to slightly more complex patterns that make up part of an object, like the contour of a petal or the curve of a shell.\n",
        "\n",
        "By the time we get to 'layer 5', the network has advanced to recognizing and responding to entire objects or significant portions of them. **The features that activate in this layer are much more sophisticated**. They could be picking up on the whole shape of a face, the form of an animal, or the circular pattern of a wheel. At this stage, the network has moved beyond the basic 'visual alphabet' and is now 'reading' and understanding complete 'visual words' or even 'visual sentences', so to speak.\n",
        "\n",
        "In summary, as a CNN learns from a dataset, it builds a **layered understanding of the visual world,** starting from the simplest elements to the most complex structures. This hierarchical learning process allows CNNs to adapt to a wide variety of visual tasks, making them extremely versatile and powerful tools in image recognition.\n",
        "\n",
        "\n",
        "---\n",
        "\n",
        "\n",
        "Think of CNNs like a team of artists learning to paint different scenes. Instead of using a one-size-fits-all set of brushes, they create their own unique brushes tailored to the specific scene they're painting. This is how CNNs get a leg up over older methods that used a standard toolkit no matter what the picture was.\n",
        "\n",
        "Let's picture a CNN in action, like a group of artists learning to paint by looking at lots of different pictures of nature. At the very start, the 'layer 1' artists are focused on the basics: they're figuring out how to draw simple lines and edges, the kind of details you'd find in leaves or the ripples of water. The patches you see labeled 'layer 1' are like their early sketches, and the images that get these newbie artists really excited (or 'activate strongly') are ones with these simple patterns.\n",
        "\n",
        "As our artistic CNN progresses to 'layer 2', the complexity ramps up. Now, they're not just drawing lines; they're putting those lines together to make textures and basic shapes—think of the patterns on a butterfly's wing or the roughness of tree bark.\n",
        "\n",
        "Fast forward to 'layer 5', and our artists are now painting whole scenes—capturing the essence of a face or the dynamic shape of a spinning wheel. It's no longer about lines or textures; it's about bringing together all these elements to recognize complex objects in their entirety.\n",
        "\n",
        "So, when you look at the examples provided for each layer, you'll notice that the early layers get excited about the simple stuff, while the later layers are all about the big picture. Just as you can clearly see the strokes in a painting that make up a tree or the sky, you can see how the features learned by the CNN reflect the intricate parts of the images they've been studying.\n",
        "\n",
        "In essence, by the time you reach the higher layers of the network, these CNNs aren't just recognizing patterns; they're identifying whole items and intricate parts of the scene—just like how we might recognize faces or objects in our everyday lives. This is the magic of CNNs; they start from scratch and build up an understanding of the visual world that's perfectly suited to the task at hand, just like a painter mastering their craft.\n",
        "\n",
        "\n",
        "\n",
        "\n",
        "---\n",
        "\n",
        "\n",
        "Drawing upon the intricate workings of the human eye and brain, Convolutional Neural Networks (CNNs) are crafted to echo the remarkable capabilities of our visual system. These sophisticated networks are structured to learn and identify patterns in a way that mirrors how we process visual information.\n",
        "\n",
        "At the outset, a CNN starts simple, learning spatial filters that can detect basic elements like edges and lines—much like the early stages of visual processing in the human brain. As the network delves deeper, these filters evolve, becoming more complex and capable of recognizing textures and patterns. This gradual progression from detecting simple edges to discerning intricate textures is akin to the visual hierarchy present in our own cognitive processing.\n",
        "\n",
        "As the layers advance, these networks become adept at identifying specific features of objects—transitioning from mere edge filters into comprehensive object detectors. This is reflective of the higher-order visual processing that occurs within the human cortex, where complex visual stimuli are interpreted and understood.\n",
        "\n",
        "One of the most revolutionary aspects of CNNs is their ability to learn directly from the data, which eliminates the need for explicit prior modelling or spatial normalization of the signal. This quality is particularly advantageous because, in human vision, we do not consciously model or standardize visual inputs; our brains naturally adjust and recognize objects regardless of variations in size, position, or orientation.\n",
        "\n",
        "By embracing this approach, CNNs can process and understand visual inputs in their raw form, accommodating a wide range of variations and inconsistencies in the images. This flexibility allows CNNs to perform robustly in real-world applications where the conditions are rarely controlled or uniform, much like our own visual experiences. It's this adaptability, inspired by the fluidity of human sight, that makes CNNs a groundbreaking tool in the field of computer vision."
      ],
      "metadata": {
        "id": "grhCFOGreUu7"
      }
    },
    {
      "cell_type": "markdown",
      "source": [
        "## Taking inspiration from human vision\n",
        "\n",
        "Much like our own visual system's versatility in handling a variety of visual tasks, Convolutional Neural Networks (CNNs) are trained to master a wide array of visual recognition challenges. For instance, they can be taught to classify objects by identifying and labeling what they represent in an image—a process known as object classification. Here, a CNN might look at an image and discern that it's a car.\n",
        "\n",
        "But their skills don't end there. CNNs can also pinpoint the exact location of an object within an image, a task referred to as object localization. It's like when you're looking for your car in a parking lot; a CNN can scan an image and tell you right where the car is sitting on the grid. Furthermore, CNNs can go even deeper with semantic segmentation, which is like coloring in a picture by labels. In this case, the CNN would color in all the pixels that make up the car, effectively segmenting it from the rest of the image.\n",
        "\n",
        "However, it's important to note that while our human visual system is a generalist—capable of shifting effortlessly between different visual tasks without needing to relearn how to see—CNNs often require specialized designs for each specific task. The architecture that excels at classifying images may not be the best for localizing objects or segmenting them, necessitating different CNN configurations for each task.\n",
        "\n",
        "Despite this, the field is actively evolving, and researchers are continually drawing inspiration from the mammalian brain to create more flexible and general-purpose CNNs. The goal is to achieve a level of generalization akin to human vision, where a single system can adapt and excel across a variety of tasks with ease. The journey of improving CNNs is an ongoing testament to the profound impact that studying natural intelligence systems has on the advancement of artificial ones."
      ],
      "metadata": {
        "id": "1G29z_sahEUQ"
      }
    },
    {
      "cell_type": "markdown",
      "source": [
        "## The convolution operation\n",
        "\n",
        "The convolution operation is a fundamental process in image processing, particularly in the detection of edges within images. This is where Sobel edge detectors come into play, which are designed to perform this task through two specific filters: one that identifies horizontal edges and another for vertical edges.\n",
        "\n",
        "These Sobel filters work by approximating the gradient of the image. The gradient here refers to the rate of change in brightness across the image. In places where there's a sharp change in intensity, like the edge of an object, the gradient is large. The horizontal filter, with its unique arrangement of positive and negative values, highlights areas of the image where there's a significant horizontal change in intensity. Similarly, the vertical filter is tuned to capture sharp changes in the vertical direction.\n",
        "\n",
        "When these filters are 'convolved' over the image—meaning they are passed over every part of the image and applied to each pixel—they compute the finite-difference approximation of the gradient. This convolution process results in a new image where the intensity of each pixel corresponds to the strength of the gradient at that point. So, in the output image, the edges—places where the original image changes rapidly from dark to light or vice versa—stand out as areas of high intensity. This technique is especially useful in many computer vision tasks because edges are critical for understanding the structure and shape of objects within images."
      ],
      "metadata": {
        "id": "Et199TLmhu6D"
      }
    },
    {
      "cell_type": "markdown",
      "source": [
        "## Convolved meaning\n",
        "\n",
        "The word \"convolved\" is derived from the mathematical operation known as convolution. To convolve means to roll or fold together; it describes the process of combining two sets of information. In the context of mathematics and signal processing, convolution is a formal operation that expresses how the shape of one function is modified by another function.\n",
        "\n",
        "When one function is convolved with another, the convolution reflects how the shape of one is \"smeared\" by the other. In the context of image processing, for example, convolving an image with a filter means taking each point of the image and combining it with surrounding points based on the pattern defined by the filter. This operation is fundamental in many applications, such as edge detection, blurring, and sharpening in images, as well as in signal processing and time series analysis.\n",
        "\n",
        "\n",
        "\n",
        "---\n",
        "\n",
        "The term \"convolved\" refers to the process of applying a convolution operation, which is a fundamental mathematical operation in the field of image processing and analysis. When an image is convolved with a filter (also known as a kernel), the filter is slid over the image, usually from the top-left corner to the bottom-right corner, and at each position, a mathematical operation is performed.\n",
        "\n",
        "Here's a step-by-step breakdown of what happens during convolution:\n",
        "\n",
        "1. **Overlay**: The filter is placed on top of the image such that it covers a portion of the image the same size as the filter.\n",
        "\n",
        "2. **Element-wise Multiplication**: Each element of the filter is multiplied by the corresponding element of the image it covers.\n",
        "\n",
        "3. **Summation**: The results of the multiplications are then summed up to get a single number.\n",
        "\n",
        "4. **Replace**: This single number replaces the pixel value at the location of the center of the filter.\n",
        "\n",
        "5. **Slide**: The filter is then moved (or slid) across to the next position on the image, and the process is repeated.\n",
        "\n",
        "This operation essentially mixes the filter's values with the image's values, allowing features like edges, textures, or patterns to be accentuated depending on the type of filter used. For edge detection, as in the case of the Sobel filters, the convolution process calculates how much the intensity changes in a local area of the image, which corresponds to the presence of edges."
      ],
      "metadata": {
        "id": "fQCUe82KiX69"
      }
    },
    {
      "cell_type": "markdown",
      "source": [
        "## Prior to CNNs … Hand Engineered Features\n",
        "\n",
        "The convolutional* operation **bold text**\n"
      ],
      "metadata": {
        "id": "jt1FDpv4jSnE"
      }
    },
    {
      "cell_type": "markdown",
      "source": [
        "## Convolution in Mathematics\n",
        "\n",
        "The word \"convolution\" is a mathematical operation on two functions that produces a third function expressing how **the shape of one is modified by the other**. The term is derived from the mathematical convolution operation, which involves **multiplying two functions after one has been flipped and shifted.**\n",
        "\n",
        "Here's a more technical explanation:\n",
        "\n",
        "In the context of mathematics, especially in signal processing, convolution is **a function derived from two given functions by integration that expresses how the shape of one is modified by the other.** The mathematical expression for the continuous convolution of two functions $ f $ and $ g $ is written as:\n",
        "\n",
        "$$\n",
        "(f * g)(t) = \\int_{-\\infty}^{+\\infty} f(\\tau) g(t - \\tau) d\\tau\n",
        "$$\n",
        "\n",
        "Here, one function is reversed and shifted, and then integrated across the domain of the other function. In discrete systems, such as image processing with digital computers, the integral is replaced by a sum:\n",
        "\n",
        "$$\n",
        "(f * g)[n] = \\sum_{m=-\\infty}^{+\\infty} f[m] g[n - m]\n",
        "$$\n",
        "\n",
        "This operation slides the $ g $ function over $ f $, multiplying and accumulating the overlap values at each position.\n",
        "\n",
        "In the context of CNNs, this mathematical concept is used to apply filters to an input (like an image) to create feature maps, effectively transforming the input data to highlight certain features.\n",
        "\n",
        "\n",
        "\n",
        "---\n",
        "\n",
        "Certainly, the concept of convolution in the context of Convolutional Neural Networks (CNNs) is directly adapted from the mathematical operation of convolution.\n",
        "\n",
        "In CNNs, the convolution operation involves the following steps:\n",
        "\n",
        "1. **Filters**: CNNs use filters (also called kernels), which are small matrices of learnable weights. These filters are analogous to the function $ g $ in the convolution formula.\n",
        "\n",
        "2. **Input Data**: The input data (like an image) to which the filters are applied can be thought of as the function $ f $ in the convolution formula.\n",
        "\n",
        "3. **Convolution Operation**: As in the mathematical definition, the filter is applied across the input data. For each position of the filter on the input, the element-wise multiplication is performed between the filter and the part of the input it covers, and then the results are summed up to get a single value. This is similar to the discrete convolution formula:\n",
        "\n",
        "$$\n",
        "(f * g)[n] = \\sum_{m} f[m] g[n - m]\n",
        "$$\n",
        "\n",
        "In this context, $ n $ would be the current position of the filter on the input, $ m $ would represent the elements of the filter, and $ f[m] $ and $ g[n - m] $ would represent the corresponding elements from the input data and the filter, respectively.\n",
        "\n",
        "4. **Feature Maps**: The result of this convolution operation across the entire input creates a feature map, which highlights features from the input that the filter is designed to detect, such as edges or textures.\n",
        "\n",
        "5. **Learning Process**: In a trained CNN, the values of the filter weights are learned through backpropagation. As the network is exposed to more data, it adjusts these weights to minimize the difference between the predicted output and the actual output.\n",
        "\n",
        "6. **Stacking Layers**: CNNs typically have multiple layers of convolutions, with each layer designed to detect increasingly complex features. The first layer might detect simple edges, while deeper layers might detect more complex patterns by convolving over the feature maps produced by previous layers.\n",
        "\n",
        "In summary, CNNs use the convolution operation to systematically apply filters to input data, creating feature maps that represent the presence of specific features within the data. This is how CNNs are able to learn from visual data and perform tasks such as image and video recognition."
      ],
      "metadata": {
        "id": "FolNzA2Xbq_w"
      }
    },
    {
      "cell_type": "markdown",
      "source": [
        "## Taking inspiration from human vision\n",
        "\n",
        "1. **Designed to Mimic the Human Visual System**:\n",
        "   - Explanation: Our visual system processes images in a stepwise manner, from simple to complex. Signals from the eyes are sent to the **primary visual cortex (V1), which acts like a series of edge detectors.**\n",
        "   - Example: When you look at a tree, your eyes first detect the **edges and contours** before recognizing it as a tree.\n",
        "   - Relation to Outline: CNNs are structured similarly, **with initial layers acting as edge detectors, much like the V1 region in the brain.**\n",
        "\n",
        "2. **Learns Spatial Filters of Increasing Complexity**:\n",
        "   - Explanation: After the initial edge detection in V1, **the visual signals are passed to subsequent visual regions (V2, V3, etc.) **that detect more complex patterns and textures.\n",
        "   - Example: After recognizing edges, your brain begins to notice the **bark's texture**, the leaves' shapes, and how they overlap and form the tree's canopy.\n",
        "   - Relation to Outline: In CNNs, after the first layers learn to detect edges, **the following layers learn filters that can detect more complex features like textures and object parts.**\n",
        "\n",
        "3. **From Edge Filters to Object Detectors**:\n",
        "   - Explanation: As the visual signals move through the higher visual regions in the brain, they become increasingly abstract, and certain cells in the inferior temporal cortex may respond specifically to complex objects, like faces.\n",
        "   - Example: Your brain not only sees a tree but can also differentiate between types of trees, or recognize a face in a crowd.\n",
        "   - Relation to Outline: Similarly, deeper layers in CNNs learn to detect complex objects as a whole, moving from simple edge detection to comprehensive object detection.\n",
        "\n",
        "4. **Removes Requirement for Spatial Normalisation of the Signal**:\n",
        "   - Explanation: **Traditional machine learning models require images to be normalized or registered so that corresponding pixels are compared.** However, this is not viable for images with complex variations.\n",
        "   - Example: Imagine trying to compare two pictures of the same breed of dog, **but one is closer to the camera than the other. Traditional methods would struggle unless the images are normalized to align them perfectly.**\n",
        "   - Relation to Outline: CNNs do not require such normalization because **they learn to recognize features regardless of their position in the image, similar to how our visual system can recognize objects regardless of their location in our field of view.**\n",
        "\n",
        "In summary, CNNs are designed to process visual information in a way that closely resembles the hierarchical, multi-stage processing of the human visual system, starting from basic edge detection and culminating in the recognition of complex objects. This design allows CNNs to handle the variability and complexity found in real-world visual scenes without the rigid spatial normalization required by traditional image processing and machine learning techniques."
      ],
      "metadata": {
        "id": "3VDTTi4RqTcf"
      }
    },
    {
      "cell_type": "markdown",
      "source": [
        "## Adaptive Feature Hierarchies in Convolutional Neural Networks\n",
        "\n",
        "The passage highlights the adaptive capability of Convolutional Neural Networks (CNNs) in **learning features from data,** as opposed to using predefined or \"hand-engineered\" feature detectors.\n",
        "\n",
        "Here's an elaboration on that concept:\n",
        "\n",
        "- **Bespoke Feature Learning**: Unlike traditional feature detection methods, where features have to be manually crafted and chosen by a human expert, C**NNs automatically learn the most relevant features for the task at hand directly from the data.** This process is \"bespoke\" in the sense that it's **custom-tailored**: the features that a CNN learns for one dataset may be very different from those it learns for another.\n",
        "\n",
        "- **Layer-wise Feature Hierarchy**: The architecture of CNNs is designed to reflect a **hierarchy of feature complexity**:\n",
        "   - **Layer 1**: The first layer typically learns **basic visual features, such as edges, corners, or colors**. For instance, if we visualize the filters from the first layer, we might see that **one filter activates strongly for vertical edges, while another might activate for green patches.**\n",
        "   - **Layer 2**: The second layer combines these basic features to detect more complex structures, like simple textures or patterns. The **features at this level are more abstract than in layer 1**, and **each filter has a specific pattern it looks for in the image.**\n",
        "   - **Layer 5**: By the fifth layer, the network has** combined lower-level features** to recognize high-level concepts, such as parts of objects or entire objects like faces or wheels. Here, the feature detectors are highly specialized, and each one may respond to very complex visual patterns.\n",
        "\n",
        "- **Visualization and Interpretation**: When training a CNN, we can visualize what each layer is learning by examining the filters (also known as kernels) and their corresponding activations. For example, we can extract image patches that maximally activate a particular filter to understand what kind of features that filter is representing. This helps in interpreting how the CNN is processing and understanding the input data.\n",
        "\n",
        "- **One-to-One Correspondence**: In deeper layers, there tends to be a **one-to-one correspondence between a filter and the complex feature it detects**. This means each filter is responsible for **identifying one specific**, complex pattern within the input data.\n",
        "\n",
        "- **Complexity and Recognition**: As you go deeper into the CNN, the network **abstracts** more and the features it responds to become representations of whole objects or significant parts of objects. For example, a filter in a higher layer might specifically activate when it sees a human face or the circular shape of a wheel.\n",
        "\n",
        "In essence, CNNs have the significant advantage of **adapting their feature detection to the specific characteristics of the data they are trained on, creating a custom-tailored set of feature detectors that can range from simple to complex**. This adaptability is a key factor in their success in various image recognition tasks."
      ],
      "metadata": {
        "id": "Kr_PgWwcuoxD"
      }
    },
    {
      "cell_type": "markdown",
      "source": [
        "## Flexibility and specialization of Convolutional Neural Networks\n",
        "\n",
        "This block describes the flexibility and specialization of Convolutional Neural Networks (CNNs) in performing various visual tasks, drawing parallels and contrasts with the human visual system.\n",
        "\n",
        "**Elaboration on CNN Tasks:**\n",
        "\n",
        "1. **Object Classification**: CNNs can be trained to identify and label objects within an image, such as recognizing a vehicle and labeling it as a \"car\". This involves assigning a category to the entire image or to specific objects detected in the image.\n",
        "\n",
        "2. **Object Localization**: Beyond classification, CNNs can also determine the location of an object within an image. For instance, after recognizing a car, the network can also pinpoint its position by placing a bounding box around it. This is useful in applications where the position of objects is crucial, like autonomous driving systems.\n",
        "\n",
        "3. **Semantic Segmentation**: This is a more granular task where CNNs label each pixel of an image that belongs to a particular object. In the case of the car, semantic segmentation would involve labeling all pixels that make up the car's image, effectively segmenting it from the rest of the picture. This is particularly useful in medical imaging to delineate the boundaries of organs or in autonomous vehicles to understand the environment at the pixel level.\n",
        "\n",
        "**Contrast with Human Visual System:**\n",
        "\n",
        "- The human visual system is highly generalizable, meaning it can perform a wide range of visual tasks using the same underlying mechanisms. We can recognize objects, judge their location and movement, and understand complex scenes without needing to switch between different modes of processing.\n",
        "\n",
        "- CNNs, however, typically require different architectures or training processes to excel at different tasks. For example, a network trained for object classification may not perform well on object localization or semantic segmentation without significant modifications.\n",
        "\n",
        "**Current Research and Inspiration from Biology:**\n",
        "\n",
        "- Despite their impressive capabilities, CNNs still lack the generalization power inherent to the human visual system. There's ongoing research to design CNNs that can perform multiple tasks or transfer learning from one task to another without needing completely separate models.\n",
        "\n",
        "- Much of this research takes inspiration from biological neural networks, particularly the mammalian brain. By understanding how the brain processes visual information so efficiently and flexibly, researchers hope to replicate this adaptability in CNNs. For instance, studies into neural plasticity and how the brain repurposes neurons for different visual functions may inform new artificial network architectures that are capable of similar flexibility."
      ],
      "metadata": {
        "id": "Dk9F6wHuwbcV"
      }
    },
    {
      "cell_type": "markdown",
      "source": [
        "## Understanding the Convolutional Operation: From Sobel Edge Detection to Feature Analysis\n",
        "\n",
        "The convolutional operation is a cornerstone of image processing and is particularly effective for feature detection, such as identifying edges within an image. Let's delve into the specific example of hand-engineered features using a Sobel edge detector to understand this better:\n",
        "\n",
        "- **Sobel Edge Detector**: This is a popular algorithmic approach used to detect edges in images. The Sobel edge detector uses two distinct convolutional filters—one for detecting horizontal edges and another for vertical edges.\n",
        "\n",
        "- **Horizontal and Vertical Filters**: The filter designed to detect horizontal edges will have weights arranged to highlight horizontal changes in intensity, whereas the filter for vertical edges will emphasize vertical changes. These filters are typically small matrices (e.g., 3x3) with specific values that are designed to respond strongly to edges in their respective orientations.\n",
        "\n",
        "- **Finite Difference Approximation**: The principle behind the Sobel operator is to approximate the gradient of the image intensity. In mathematical terms, the gradient measures how much the intensity changes in space, which is indicative of an edge. Since digital images are discrete, the Sobel operator uses a finite difference method to estimate these gradients.\n",
        "\n",
        "- **Convolution with Filters**: The actual process involves convolving the image with each of the Sobel filters. Convolution, in this context, means sliding the filter over the image, multiplying the overlapping values, and summing them to produce a new pixel value for the output image. This operation is performed for every pixel position in the image, effectively scanning the whole image with the filters.\n",
        "\n",
        "- **Edge Intensity and Gradients**: The result of this convolution is two new images that represent the gradient of the original image in the horizontal and vertical directions. Wherever there is a sharp change in intensity in the original image, the corresponding pixel in the gradient image will have a high value. Therefore, the edges can be seen as areas with high intensity in the gradient images, indicating places where the gradient—and thus the change in image intensity—is large.\n",
        "\n",
        "- **Resulting Edge Map**: By combining the horizontal and vertical gradient images, an overall edge map can be produced. This edge map highlights the locations of edges in the original image, showing where the intensity sharply changes, and thus, where the boundaries of objects are likely to be.\n",
        "\n",
        "In summary, the Sobel edge detector is a concrete example of using convolutional operations with hand-engineered filters to extract meaningful features—like edges—from an image. This process is a precursor to the more complex, learned convolutions that take place within a CNN, where filters are not designed by hand but are instead learned from data to capture a vast array of features, not just edges."
      ],
      "metadata": {
        "id": "knhWd79_yOuR"
      }
    },
    {
      "cell_type": "markdown",
      "source": [
        "## Edge Detection in Image Processing Using Sobel Filters\n",
        "\n",
        "This image illustrates the Sobel edge detection filters and the convolution operation involved in using them.\n",
        "\n",
        "Here's an elaboration on the components of the image:\n",
        "\n",
        "- **Convolution Operation**: This is the process of applying a filter (also called a kernel) to an image to extract certain features, such as edges. It involves sliding the filter over the image, performing element-wise multiplication with the part of the image it covers, and summing up the results to form a new image.\n",
        "\n",
        "- **Sobel Filters**: The image shows two 3x3 Sobel filters. These filters are designed to detect edges in different orientations:\n",
        "  - The **Horizontal Filter** (on the left) is used to detect horizontal edges in the image. The positive values are at the top, and the negative values are at the bottom, which means this filter will respond strongly to horizontal changes in intensity—such as the transition from a light to a dark region horizontally.\n",
        "  - The **Vertical Filter** (on the right) is used to detect vertical edges. The positive values are on the left side of the filter, and the negative values are on the right side, making this filter sensitive to vertical transitions in intensity.\n",
        "\n",
        "- **Finite-Difference Approximation of the Gradient**: By convolving these filters with the image, we approximate the gradient of the image. The gradient refers to the rate of change of brightness within the image, which is high at the edges where the color changes abruptly. The convolution operation with Sobel filters highlights these areas by producing high values in the new image, effectively outlining where the edges are.\n",
        "\n",
        "- **Edge Detection**: The process outlined in the image captures the essence of edge detection using the Sobel operator. By applying these two filters and then combining the resulting images, we can detect the presence and orientation of edges in the original image, which is a fundamental step in many image processing tasks.\n",
        "\n",
        "This visualization is a common way to explain how edge detection works in the field of computer vision and is a fundamental concept for those learning about image processing and convolutional neural networks."
      ],
      "metadata": {
        "id": "vVqgm4ATzqoG"
      }
    },
    {
      "cell_type": "markdown",
      "source": [
        "## Applying Sobel Edge Detection to MRI Image Analysis: A Synthesis of Convolution and Cross-Correlation\n",
        "\n",
        "Here is the process of applying a convolutional operation, specifically using a vertical Sobel filter, on a small patch of an MRI image of the human brain. Here's an elaboration on the process and the technical details involved:\n",
        "\n",
        "- **MRI Image Patch**: The process starts with an 8x8 patch of an MRI image. This patch has been selected because it contains an edge, which is indicated by a transition from a very bright to a very dark region within the brain structure.\n",
        "\n",
        "- **Sobel Filter Application**: To detect the orientation and presence of this edge, the patch is convolved with the vertical Sobel filter. The vertical Sobel filter is a 3x3 matrix designed to highlight vertical edges by responding to changes in intensity in the vertical direction.\n",
        "\n",
        "- **Cross-Correlation vs. Convolution**: Technically, the operation performed is called cross-correlation, not convolution. In true convolution, the filter would be flipped both horizontally and vertically before being applied to the image. However, in cross-correlation, the filter is used as is, without flipping.\n",
        "\n",
        "- **Relevance in CNNs**: In the context of Convolutional Neural Networks (CNNs), the distinction between cross-correlation and convolution is generally disregarded. This is because CNNs learn the filter weights directly from the data during training, which means they can learn the correct orientation of the filter for the task regardless of whether the operation is technically convolution or cross-correlation.\n",
        "\n",
        "- **Valid Assumption**: Given that CNNs can learn to identify features effectively whether the filters are flipped or not, the use of cross-correlation is considered a valid assumption in practice. This simplification does not affect the network's ability to learn from the data and detect features like edges in images.\n",
        "\n",
        "In summary, the Sobel filter is applied to an MRI image patch to highlight the edges within it, and the operation used is akin to cross-correlation, which is a standard approach in CNNs. This approach simplifies the process without compromising the feature learning and edge detection capabilities of the network."
      ],
      "metadata": {
        "id": "48_XYIB50fb4"
      }
    },
    {
      "cell_type": "markdown",
      "source": [
        "## Filters not neurons!\n",
        "\n",
        "\n",
        "1. **Filters as Weight Matrices**: In CNNs, filters (or kernels) are indeed the core components that perform the convolution operations. A filter is represented by a weight matrix $ W_i^l \\in \\mathbb{R}^{f \\times f \\times d_{(l-1)}} $, where $ f $ is the filter size and $ d_{(l-1)} $ is the depth of the input to that layer. These filters are the learned parameters of the network that help in extracting features from the input image.\n",
        "\n",
        "**Imagine Filters as Artisans of Data**: Within the realms of CNNs, think of filters as skilled artisans whose tools are the weight matrices $ W_i^l \\in \\mathbb{R}^{f \\times f \\times d_{(l-1)}} $. Here, $ f $ isn't just a number—it's the size of the artisan's canvas, and $ d_{(l-1)} $ represents the depth of insight they have into the input data. These artisans craftily carve out patterns and features from the raw image data, helping to bring out the essence of the visual information.\n",
        "\n",
        "2. **Receptive Field**: The concept of a receptive field is important in CNNs because each 'neuron' (or more accurately, each filter application) processes a small, localized region of the input image. This is different from a fully connected network, where each neuron is connected to every input. In CNNs, this locality is captured by the size of the filter, and the receptive field is the part of the image that is 'seen' by the filter during the convolution operation.\n",
        "\n",
        "**Receptive Field - The Window to the World**: In the CNN landscape, each 'neuron' gets a personalized window—the receptive field—through which it gazes at a small segment of the image. It's a departure from the old days of fully connected networks, where each neuron was bombarded with the whole image. Now, our little windows keep things local and focused, allowing for a more intimate and detailed understanding of the image's features.\n",
        "\n",
        "3. **Parameter Sharing and Convolution**: Parameter sharing is a fundamental feature of CNNs that allows the network to significantly reduce the number of parameters compared to a fully connected network. Because the same filter (with the same weights) is applied across the entire input image, this operation is equivalent to a convolution, where each element of the output feature map is computed by elementwise multiplication of the filter with the input image's receptive field followed by summing the results.\n",
        "\n",
        "**Parameter Sharing - A Convolutional Symphony**: The magic of parameter sharing in CNNs is akin to an orchestra playing in unison. Just as each musician plays the same note in harmony, each neuron in a convolutional layer shares the same filter weights, creating a symphony of convolutions across the image. This not only cuts down on the cacophony of too many parameters but also ensures that the learned patterns are universally recognized across the entire image.\n",
        "\n",
        "4. **Output Depth Determined by Number of Filters**: The depth of the output feature map is determined by the number of filters used in the convolutional layer. For example, if you apply 12 filters to an input image of size $ 32 \\times 32 \\times 3 $ with padding to maintain the same spatial dimensions, you would end up with an output feature map of size $ 32 \\times 32 \\times 12 $. Each filter produces a different feature map, and stacking these maps along the depth dimension forms the complete output of the convolutional layer.\n",
        "\n",
        "**Depth of Output - The Ensemble of Filters**: The depth of the output in a CNN layer is set by the ensemble of filters applied. If you're picturing a $ 32 \\times 32 \\times 3 $ image, and you decide to call upon 12 unique filters, you're essentially creating 12 unique interpretations of the image, each capturing different features. Stack these interpretations together, and you get a $ 32 \\times 32 \\times 12 $ feature map that holds a richer, more nuanced representation of the original image.\n",
        "\n",
        "The transition from Multi-Layer Perceptrons (MLPs) to CNNs involves understanding these key differences: the use of local receptive fields, shared weights, and the spatial hierarchy of features that the network can learn. CNNs are thus more suited to tasks like image recognition, where the spatial arrangement of pixels is crucial for identifying patterns and features.\n",
        "\n",
        "So, when shifting your mindset from the more traditional neural networks to CNNs, it's like moving from a one-size-fits-all approach to a bespoke tailor-made understanding of images. The CNN approach is more nuanced, allowing the network to create a hierarchy of features, from the simple to the complex, which is perfect for making sense of the visual world."
      ],
      "metadata": {
        "id": "Tea5BTfD81lj"
      }
    },
    {
      "cell_type": "markdown",
      "source": [
        "## Convolutional Networks: Forward Propagation\n",
        "\n",
        "<img src=\"https://raw.githubusercontent.com/MaralAminpour/ML-BME-Course-UofA-Fall-2023/main/week-9-CNN/img/Screen%20Shot%202023-11-14%20at%2011.02.54%20AM.png\" width = \"700\" >\n",
        "\n",
        "Imagine this lovely RGB image of a flower, bursting with red, green, and blue hues. This image isn't just a flat picture; it has depth $ d_0 = 3 $ corresponding to its color channels, which gives us a three-dimensional perspective on our digital flower.\n",
        "\n",
        "Now, to understand this image through the eyes of a CNN, we start by learning filters, or mini lenses, that are shaped $ f \\times f \\times d_0 $. **Each filter is crafted to have the same depth as the image** so that it can fully appreciate all the color nuances. These filters are not just regular lenses; they're more like detectives' magnifying glasses, looking for specific clues—in our case, patterns and textures.\n",
        "\n",
        "When we slide these filters across the image—carefully moving them stride by stride and adding a bit of padding around the edges to ensure we don't miss any part of the picture—we get a new image. This **new image, or activation map**, has a shape $ h_1 $, calculated by the formula you've learned, which neatly encapsulates the findings of our detective filters.\n",
        "\n",
        "And what do these filters find? Well, initially, they might catch the simplest hints, like the edges of petals, much like an **edge detector** would. This is because early on, CNNs tend to learn simple, local patterns before moving on to complex ones.\n",
        "\n",
        "Here's where you, the user, come in. You decide you want 64 different insights into our flower's picture, so you set $ d_1 = 64 $. This means you're asking for 64 filters to scan the image. Each filter will give you a different perspective, focusing on various features of the flower. Once the convolution operation is done, you'll have $ d_1 $ different 2D images—each a unique interpretation of the flower, representing different features highlighted by each filter.\n",
        "\n",
        "The result? A multi-faceted, richly detailed understanding of the flower's image, with depth $ d_1 $ that the CNN will use to further analyze or make decisions, such as identifying the type of flower or detecting anomalies. This process is the essence of how CNNs process visual data, building up complex representations from simple beginnings."
      ],
      "metadata": {
        "id": "5symWuTU_zMb"
      }
    },
    {
      "cell_type": "markdown",
      "source": [
        "## Convolutional Networks: Forward Propagation\n",
        "\n",
        "\n",
        "Imagine we have an input $X \\in \\mathbb{R}^{10 \\times 10 \\times 3}$, which is an image with a height and width of 10 pixels each, across 3 color channels (RGB). We add padding of one pixel around the image, which expands it to $X \\in \\mathbb{R}^{11 \\times 11 \\times 3}$.\n",
        "\n",
        "Our aim is to learn 64 filters, each with dimensions $3 \\times 3 \\times 3$. We denote these filters as $W_i$ for $i$ ranging from 0 to 63. Each filter will convolve with the image to detect various features.\n",
        "\n",
        "Here's how we could express the convolution operation for the first filter $W_0$ in Python, along with the bias term $b_0$:\n",
        "\n",
        "<img src=\"https://raw.githubusercontent.com/MaralAminpour/ML-BME-Course-UofA-Fall-2023/main/week-9-CNN/img/orange.png\" width = \"400\" >\n",
        "\n",
        "\n",
        "```python\n",
        "import numpy as np\n",
        "\n",
        "# Assuming X is our padded input image and W_0 is the first filter\n",
        "# b_0 is the bias term for the first filter\n",
        "Z = np.zeros((output_height, output_width, 64))  # Initialize the output volume Z\n",
        "\n",
        "# Convolution operation for the top-left corner of the image\n",
        "Z[0, 0, 0] = np.sum(X[:3, :3, :] * W_0) + b_0\n",
        "\n",
        "# Moving the filter to the right by one stride (stride = 1)\n",
        "Z[0, 1, 0] = np.sum(X[:3, 1:4, :] * W_0) + b_0\n",
        "\n",
        "# Moving the filter another stride to the right\n",
        "Z[0, 2, 0] = np.sum(X[:3, 2:5, :] * W_0) + b_0\n",
        "\n",
        "# This process would continue for the entire image...\n",
        "```\n",
        "\n",
        "The expression `Z[0, 0, 0]` captures the sum of element-wise products between the filter $W_0$ and the top-left corner of the image, adding the bias $b_0$ afterwards. This is done for each position the filter moves over, always applying a stride of 1, which gives us the activation map $V$ for the first feature $W_0$.\n",
        "\n",
        "This approach is akin to neurons in a fully connected layer, but rather than connecting to every feature, each 'neuron' in a CNN connects locally, corresponding to the size of the filter, such as $3 \\times 3 \\times 3$.\n",
        "\n",
        "By executing this procedure with all 64 filters, we create a detailed feature map for each filter, which collectively forms a comprehensive feature representation of the original input image. This detailed feature representation is the fundamental mechanism by which CNNs interpret visual information.\n",
        "\n",
        "<img src=\"https://raw.githubusercontent.com/MaralAminpour/ML-BME-Course-UofA-Fall-2023/main/week-9-CNN/img/red.png\" width = \"400\" >\n",
        "\n",
        "The result of the convolution at position $0,1,0$ in the output volume is essentially the application of the same filter $W_0$, now translated one unit to the right. This mirrors the convolution process as explained earlier, where the filter slides across the input space. However, in this context, we're employing notation that aligns with what was introduced during the initial discussion on fully connected MLP networks.\n",
        "\n",
        "Sure thing! Think of the filter $ W_0 $ as a little explorer on a grid. At the spot $ 0,1,0 $ in our output, our explorer stands after taking a single step to the right. It's the same diligent explorer $ W_0 $, just shifted over by one spot in the grid, ready to uncover more secrets in the image. This step-by-step adventure across the grid isn't much different from the process we saw in the first lecture with fully connected networks, but instead of each explorer having a unique path, here they all follow the same route across the image, picking up patterns along the way.\n",
        "\n"
      ],
      "metadata": {
        "id": "_H-Hl_xlDBzc"
      }
    },
    {
      "cell_type": "markdown",
      "source": [
        "Let's add a touch of mathematical charm to it! Once our intrepid filter $ W_0 $ has completed its grid-wide quest, it's time for the second filter $ W_1 $ to take the stage. It follows an identical path, weaving through the grid and capturing its own unique set of features. As it does this, $ W_1 $ decorates the next level of our output volume $ Z $, filling up the second depth channel. So if you think about it, while $ W_0 $ filled up the very first layer of our 3D feature map (that's the zeroth index of $ Z $), $ W_1 $ comes in to add another layer of insights right on top of it (populating the first index). This pattern of exploration and discovery is repeated for each and every filter, layering up our understanding of the image in $ Z $."
      ],
      "metadata": {
        "id": "t8kQfpZXHWRx"
      }
    },
    {
      "cell_type": "markdown",
      "source": [
        "Matrix operations are the secret sauce that makes convolutional computations both elegant and efficient. Let's break down how this works with the convolution of image blocks and filters:\n",
        "\n",
        "Firstly, we have these little squares or \"blocks\" of our image, each the size of the filter we're about to apply — say, a 3x3 grid. In the traditional sense, convolution would have us slide the filter over these blocks one by one, doing a lot of multiplications and additions. However, there's a clever trick we can use to speed things up: vectorization.\n",
        "\n",
        "<img src=\"https://raw.githubusercontent.com/MaralAminpour/ML-BME-Course-UofA-Fall-2023/main/week-9-CNN/img/yellow.png\" width = \"500\" >\n",
        "\n",
        "\n",
        "Vectorization is all about reshaping and alignment. We take each of these 3x3 blocks and stretch them out from a square into a long column. It's like taking a cube of string cheese and peeling off the strands one by one until you have a neat row. When you do this with every block, you get a tall stack of columns, each representing a piece of the original image, ready to be processed.\n",
        "\n",
        "Now, we perform a similar stretch with each filter, turning what was once a 3x3 kernel into a 9-element vector. Why 9? Because 3 multiplied by 3 is 9, and that's how many pixels we have in each block or filter.\n",
        "\n",
        "Once everything is stretched into columns and lined up, we bring in the big guns of matrix operations: the dot product. By taking the dot product of the filter vectors with the image block vectors, we're effectively doing all the multiplications and additions in one fell swoop. This is much faster than the old way of doing it pixel by pixel, convolution by convolution.\n",
        "\n",
        "The beauty of this approach is that it can be done very quickly, especially on modern computers that are optimized for these kinds of matrix operations. By using this method, we can process entire images with multiple filters rapidly, which is what makes training and using CNNs feasible on a large scale.\n",
        "\n",
        "Let's expand on this process of transforming image blocks into a matrix with a concrete example:\n",
        "\n",
        "Suppose we have an input image with dimensions [227x227x3] — a standard size for many classic convolutional neural network architectures. Now, we want to convolve this image with a set of filters that are each [11x11x3] in size. The stride, which is the step we take as we slide the filter across the image, is set to 4. This means that instead of moving our filter one pixel at a time, we move it four pixels over for each step.\n",
        "\n",
        "<img src=\"https://raw.githubusercontent.com/MaralAminpour/ML-BME-Course-UofA-Fall-2023/main/week-9-CNN/img/green.png\" width = \"500\" >\n",
        "\n",
        "For each position of the filter on the image, we take the [11x11x3] block of pixels it covers and stretch this block out into a long, thin column vector. This vector has a length of 11 multiplied by 11 multiplied by 3, which equals 363. This stretching is like unrolling a ball of yarn into a straight line — we're turning a 3D block of our image into a 1D column.\n",
        "\n",
        "Now, as we stride across our input image with a step of 4, we don't cover every single pixel one by one. Instead, we jump four pixels each time, which reduces the number of positions we need to stop at. Calculating the number of positions is simple: we subtract the filter size from the input size, divide by the stride, and add 1. For both the width and the height, this gives us (227 - 11) / 4 + 1 = 55 positions.\n",
        "\n",
        "When we do this for both dimensions, we find that we have 55 positions along the width and 55 along the height, resulting in 55 times 55, which is 3025 different positions in total. As we repeat the stretching process for each of these positions, we form a matrix $ X_{\\text{col}} $ from the operation known as $ \\text{im2col} $. This matrix has a size of [363 x 3025], where each of the 3025 columns is one of these unrolled receptive fields.\n",
        "\n",
        "One important thing to note is that because the stride is smaller than the filter size, our receptive fields will overlap, which means that some pixels from the input volume will be represented multiple times across different columns of the $ X_{\\text{col}} $ matrix. This is a natural consequence of how convolution works with striding and ensures that we capture the necessary information from each part of the image as we apply our filters.\n",
        "\n",
        "This matrix is a powerful representation that allows us to perform convolution as a matrix multiplication, which is a highly optimized operation on modern computing architectures. It's how we can efficiently process large images with complex filters, making the magic of CNNs possible in practical applications like image recognition."
      ],
      "metadata": {
        "id": "F8UvcPqUVYY5"
      }
    },
    {
      "cell_type": "markdown",
      "source": [
        "## Convolutional Networks: Forward Propagation Summary\n",
        "\n",
        "Let's elaborate on how the convolution operation in a neural network can be implemented efficiently using matrix operations. This will involve taking local regions of the input, stretching them out, and then performing dot products with the stretched-out filters.\n",
        "\n",
        "1. **Stretching the Image Blocks into Columns**: We begin by targeting specific blocks of the image that align with the size of our filters. Each block is then stretched out into a column. This process, often referred to as `im2col`, transforms the 2D blocks from the image into 1D columns and stacks them side by side, forming a large matrix where each column is one image block.\n",
        "\n",
        "2. **Stretching the Filters into Rows**: In parallel, we take each filter, which is a small weight matrix, and stretch it out into a row. By doing this with all the filters, we create another matrix where each row corresponds to one filter. The resulting matrix has the shape $ d_l \\times (f \\times f) $, with $ d_l $ being the number of filters and $ f \\times f $ representing the flattened filter size.\n",
        "\n",
        "3. **Matrix Multiplication**: With both matrices prepared, we carry out a single matrix multiplication using a function like `np.matmul`. This operation effectively computes the dot product between each stretched image block and filter. It's a highly optimized way to do many convolutions simultaneously because modern hardware is very good at crunching these kinds of large matrix operations.\n",
        "\n",
        "4. **Reshaping Back into a Volume**: After the matrix multiplication, we're left with a 2D matrix where each element represents a convolution result. To get back to a format that represents the spatial structure of our original image, we reshape this matrix into a 3D volume. This volume has a depth equal to the number of filters, with the spatial dimensions determined by the original image size, filter size, stride, and padding used during the convolution.\n",
        "\n",
        "5. **Applying Activation Function**: Lastly, each value in the output volume is passed through an activation function, like the Rectified Linear Unit (ReLU). This function introduces non-linearity into the model, allowing the network to learn more complex features. It operates on each value individually, typically setting all negative values to zero and leaving positive values unchanged, though other behaviors are possible depending on the specific function used.\n",
        "\n",
        "By following these steps, we can transform the convolution operation from a series of individual computations into a few large, efficient matrix operations. This is crucial for making training and inference with CNNs practical on large-scale data."
      ],
      "metadata": {
        "id": "PN92fEMBW4le"
      }
    },
    {
      "cell_type": "markdown",
      "source": [
        "## Convolutional Networks: Backward Propagation\n",
        "\n",
        "<img src=\"https://raw.githubusercontent.com/MaralAminpour/ML-BME-Course-UofA-Fall-2023/main/week-9-CNN/img/blue_purpule.png\" width = \"700\" >\n",
        "\n",
        "Backpropagation in convolutional layers is quite a nifty process, leveraging the same convolutional operation that's used in the forward pass. Here's how it elegantly unfolds:\n",
        "\n",
        "During the forward pass, the convolutional layer performs its key operation, indicated by the asterisk symbol. This operation involves elementwise multiplications followed by a summation. For instance, the value at the first position of the output feature map, $ z_{11} $, is calculated as $ z_{11} = w_{11} \\times x_{11} + w_{12} \\times x_{12} + \\ldots $, and so on across the overlapping elements of the input and the filter.\n",
        "\n",
        "Now, let's turn our attention to backpropagation. When the network is learning, it estimates how much the loss function $ L $, which measures the error of the model, would change with respect to the parameters, such as our weights $ W $. This is where the partial derivatives come into play.\n",
        "\n",
        "Considering the partial derivative of the loss $ L $ with respect to a weight $ w_{11} $, we follow the chain rule, also known as the rule of total derivatives in this context. Since the partial derivative of $ Z $ with respect to $ W $ (for instance, $ \\frac{\\partial z_{11}}{\\partial w_{11}} $) involves the corresponding elements of $ X $, this computation also simplifies to a convolutional operation. Here, the elements of $ X $ are convolved with the partial derivatives of $ L $ with respect to $ Z $.\n",
        "\n",
        "This means that the backpropagation for a convolutional layer, where we're determining how to adjust the weights based on the error, can again be formulated as a series of matrix multiplication operations. These operations are just as optimized and efficient as those in the forward pass, thanks to the regular and structured way that convolutional layers operate.\n",
        "\n",
        "By translating the error back through the network using this process, the model can effectively 'learn' from the mistakes it makes, adjusting its filters to better recognize the patterns and features in the input data. This ability to learn through backpropagation is what powers the continued improvement of a CNN as it is exposed to more data and more iterations of training."
      ],
      "metadata": {
        "id": "GYRyaGMyX2No"
      }
    }
  ]
}