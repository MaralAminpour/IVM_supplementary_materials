{
  "nbformat": 4,
  "nbformat_minor": 0,
  "metadata": {
    "colab": {
      "provenance": [],
      "authorship_tag": "ABX9TyPyNQMPgv40IBsrTfmKO3Xm",
      "include_colab_link": true
    },
    "kernelspec": {
      "name": "python3",
      "display_name": "Python 3"
    },
    "language_info": {
      "name": "python"
    }
  },
  "cells": [
    {
      "cell_type": "markdown",
      "metadata": {
        "id": "view-in-github",
        "colab_type": "text"
      },
      "source": [
        "<a href=\"https://colab.research.google.com/github/MaralAminpour/IVM_supplementary_materials/blob/main/feature_extraction.ipynb\" target=\"_parent\"><img src=\"https://colab.research.google.com/assets/colab-badge.svg\" alt=\"Open In Colab\"/></a>"
      ]
    },
    {
      "cell_type": "markdown",
      "source": [
        "## what is feature extraction?\n",
        "\n",
        "\n",
        "Feature extraction is the art of simplifying our data. Imagine you have a vast canvas with a sprawling and complex painting. Feature extraction is like being able to reproduce that painting on a smaller canvas, while still capturing its essence and beauty. When we dive deep into large datasets, especially those from signals or images, there's so much going on! There are tons of details, but not all of them are crucial. Feature extraction helps us filter out the noise and focus on the salient features, those significant brush strokes that truly define the artwork.\n",
        "\n",
        "Why is this important? Well, when we reduce the complexity of our data, we're setting ourselves up for success in the world of machine learning. A simplified, yet meaningful dataset is less prone to overfitting, where our model might get too caught up in the tiny details and miss the big picture. Furthermore, models trained on such data are not only more accurate but also learn faster.\n",
        "\n",
        "So, the next time you come across a large dataset, think of it as that vast canvas. Through feature extraction, you're not only making the canvas more manageable but ensuring that every brush stroke on it truly counts. By emphasizing the right details and sidelining the redundant ones, we create a perfect setting for our machine learning models to thrive.\n"
      ],
      "metadata": {
        "id": "W30aR226B555"
      }
    },
    {
      "cell_type": "markdown",
      "source": [
        "## Feature Extraction Examples\n",
        "\n",
        "Picture this: You're watching a super detailed movie of your heart in action. This isn't just any regular film; it's captured using a special camera known as a 3D+T MRI. This camera allows us to see every tiny detail of your heart from all angles and across time.\n",
        "\n",
        "Now, these pictures can be a bit overwhelming. Every single detail of your heart is captured in these images. But, what if we just want to understand how your heart pumps blood? That's where \"feature extraction\" waltzes in like a detective, looking for clues about your heart's performance. It's like skimming a book to understand the main plot without getting bogged down by all the side stories.\n",
        "\n",
        "Now, to help us understand these images, we use a smart tool called a **convolutional neural network**. Think of it as a set of virtual glasses that can highlight specific parts of the heart in these pictures.\n",
        "\n",
        "From these highlighted sections, we measure how much blood the left ventricle (an important chamber in the heart) holds and pumps out. It's a bit like observing how much water fills and empties from a water balloon.\n",
        "\n",
        "Two moments capture our attention: when the balloon is fully blown (end diastole) and when it's most squeezed out (end systole). With these two measurements, we can calculate something called the \"ejection fraction\" (EF). It's like finding out how much water the balloon pushes out in one go!\n",
        "\n",
        "Here's a simple formula:\n",
        "$$\n",
        "EF = \\left( \\frac{LVEDV - LVESV}{LVEDV} \\right) \\times 100\n",
        "$$\n",
        "\n",
        "Here, we're just looking at the difference between the balloon's maximum and minimum water levels as a percentage. Don't worry about the letters too much; they're just fancy names for the balloon's maximum and minimum water levels.\n",
        "\n",
        "So, to wrap it up: We have this high-tech movie of the heart, we use special glasses to focus on the main events, and from that, we gauge how well our heart is working. Simple as that!\n"
      ],
      "metadata": {
        "id": "nY7j-X5pB-JD"
      }
    }
  ]
}